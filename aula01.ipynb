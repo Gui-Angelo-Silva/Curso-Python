{
  "cells": [
    {
      "cell_type": "markdown",
      "metadata": {
        "id": "view-in-github",
        "colab_type": "text"
      },
      "source": [
        "<a href=\"https://colab.research.google.com/github/Gui-Angelo-Silva/Curso-Python/blob/main/aula01.ipynb\" target=\"_parent\"><img src=\"https://colab.research.google.com/assets/colab-badge.svg\" alt=\"Open In Colab\"/></a>"
      ]
    },
    {
      "cell_type": "markdown",
      "metadata": {
        "id": "8V0Cwnu1Mem6"
      },
      "source": [
        "# Aula01 - Introdução ao Python\n",
        "\n",
        "## Python\n",
        "\n",
        "Python é uma linguagem de programação interpretada, orientada a objetos, de alto nível e com semântica dinâmica. A simplicidade do python reduz a manutenção de um programa.\n",
        "A linguagem suporta módulos e pacotes, que encoraja a modularização e o reuso de códigos.\n",
        "\n",
        "É uma das linguagens  que mais tem crescido devido a sua compatibilidade e capacidade de auxiliar outras linguagens, é também um das  linguagens mais populares entre a comundade de análise de dados e a comunidade cientifica.\n",
        "\n",
        "## História do Python\n",
        "\n",
        "A linguagem Python foi criada em 1990 por Guido Van Rossum no Centro de Matemática Stichting (CWI - http://www.cwi.nl) na Holanda como sucessora da linguagem ABC. Guido é lembrado como o principal autor do Python, mas outros programadores ajudaram com muitas contribuições.\n",
        "\n",
        "A linguagem ABC foi desenhada para o uso de não programadores, mas logo de início mostrou certas limitações e restrições, a grande reclamação era a presença de regras arbitrárias que geralmente eram utilizadas em linguagens de baixo nível.\n",
        "\n",
        "O Python surigiu para que fosse uma linguagem simples que possuísse algumas das melhores propriedades da linguagem ABC. Listas, dicionários, declarações básicas e uso obrigatório de identação diferenciam a linguagem Python da linguagem ABC.\n",
        "\n",
        "Em 1995, Guido continuou seu trabalho em Python na Corporation for National Research Initiatives (CNRI, http://cnri.reston.va.us). Em 2000 o time de desenvolvimento da linguagem foram para a BeOpen Python Labs (http://beopen.com), no mesmo ano mudaram-se para a Digital Creations, hoje Zope Corporation (http://www.zope.org).\n",
        "\n",
        "Em 2001 foi fundada a Python Software Fundation (PSF - http://www.python.org/psf/), uma organização sem fins lucrativos fundada para manter a lingaugem e hoje detem sua propriedade intelectual.\n",
        "\n",
        "Todos os lançamentos de novos releases da linguagem Python são de código aberto."
      ]
    },
    {
      "cell_type": "markdown",
      "metadata": {
        "id": "5doVeqg9Mem8"
      },
      "source": [
        "![Python](https://github.com/Gui-Angelo-Silva/Curso-Python/blob/main/img/python.jpeg?raw=1)"
      ]
    },
    {
      "cell_type": "markdown",
      "metadata": {
        "id": "uIMfllfaMem8"
      },
      "source": [
        "## Interpretador\n",
        "\n",
        "Você já deve ter ouvido falar que a linguagem Python é interpretada ou uma linguagem de script. em certo sentido pode-se afirmar que é uma linguagem interpretada, mas na verdade a forma de execução de programas python atualmente assemelha-se a forma de execução da linguagem Java.\n",
        "\n",
        "O interpretador faz a tradução em tempo real para código de máquina, ou seja, em tempo de execução. Já um compilador traduz o programa inteiro em código de máquina em uma única vez, gerando um relatório de erros caso existam ou gerando o programa que pode ser rodado (executável).\n",
        "\n",
        "O  Python é uma linguagem interpretada mas como o Java, passa por um processo de compilação gerando um bytecode e depois é interpretado por uma máquina virtual.\n",
        "\n",
        "## É possível compilar o Python ?\n",
        "\n",
        "Existem implementações de compiladores para Python como o Cpython, Cython, Jython, IronPython ou PyPy. A diferença entre elas é o compilador.\n",
        "\n",
        "o Cpython é o compilador oficial da linguagem Python quando você a utiliza por padrão. O Cython converte a linguagem Python para C++e utiliza o compilador desta linguagem para gerar o executável, mas para ser eficiente deve adaptar o código python original.\n",
        "\n",
        "O Jython gera bytecode a partir do Python para ser executado na JVM (Java Virtual Machine) e o IronPython em uma máquina virtual .Net.\n",
        "\n",
        "O PyPy é uma implmentação escrita em python que possui uma Virtual Machine Python sendo mais veloz que o CPython origianl e vem com a tecnologia JIT (Just in Time) que já traduz o código fonte em linguagem de máquina.\n",
        "\n",
        "## Modo Script ou Interativo\n",
        "\n",
        "Para utilizar o modo interativo você deve abrir o terminal do seu sistema operacional e rodar o python. Por exemplo:\n",
        "\n",
        "**C:\\python**\n",
        "\n",
        "Você terá acesso ao prompt do Python para a digitação de suas instruções:\n",
        "\n",
        "![Prompt Python](https://github.com/Gui-Angelo-Silva/Curso-Python/blob/main/img/python_prompt.jpg?raw=1)\n",
        "\n",
        "No modo script você pode utilizar qualquer editor de texto para escrever o seu código python gerando um arquivo com a extensão .py. Pode utilizar qualquer IDE que desejar como o PyCharm, VSCode, Spyder entre outras existentes no mercado.\n"
      ]
    },
    {
      "cell_type": "code",
      "execution_count": null,
      "metadata": {
        "id": "fT8C-OpOMem9"
      },
      "outputs": [],
      "source": [
        "for x in range(5):\n",
        "    print(x)"
      ]
    },
    {
      "cell_type": "markdown",
      "metadata": {
        "id": "5cWfpu2wMem-"
      },
      "source": [
        "## Introdução as declarações em Python\n",
        "\n",
        "faremos uma rápida visão geral das declarações do Python. Esta palestra enfatizará as diferenças entre Python e outros idiomas, como o C++. \n",
        "\n",
        "Existem duas razões pelas quais tomamos essa abordagem para aprender o contexto das declarações de Python:\n",
        "\n",
        "    1) Se você vem de uma linguagem diferente, isso acelerará rapidamente sua compreensão sobre o Python. \n",
        "\n",
        "    2) Aprender sobre declarações permitirá que você possa ler outras linguagens com mais facilidade no futuro.\n",
        "\n",
        "# Python vs outras linguagens\n",
        "\n",
        "Vamos criar uma declaração simples que diga: Se a é maior que b, atribua 2 a \"a\" e 4 a \"b\"\n",
        "\n",
        "Veja essas duas afirmações if (a frente veremos melhor a sintaxe do if):\n",
        "\n",
        "Outras Linguagens:\n",
        "\n",
        "if (a > b) {\n",
        "    a=2;\n",
        "    b=4;\n",
        "} \n",
        "\n",
        "em Python:\n",
        "\n",
        "if a > b:\n",
        "    a=2\n",
        "    b=4\n",
        "\n",
        "Você notará que o Python está menos confuso e muito mais legível do que a primeira versão.\n",
        "\n",
        "Como o Python gerencia isso ?\n",
        "\n",
        "Vejamos as diferenças:\n",
        "    O Python se livra de () - parenteses e {} - chaves incorporando dois fatores principais: os \":\"  - dois pontos e os espaços em branco.\n",
        "\n",
        "    A declaração é terminada com dois pontos e o espaço em branco é usado (recuo) para descrever o que ocorre no caso da declaração.\n",
        "    \n",
        "    Outra grande diferença é a falta de ponto e vírgula em Python. Eles são usados p​ ara denotar terminações de declaração em muitos outros idiomas, mas em Python, o final de uma linha é o mesmo que o final de uma declaração.\n",
        "    \n",
        "    Por fim, para terminar esta breve visão geral das diferenças, vamos examinar mais de perto a sintaxe de indentação em Python vs outras linguagens.\n",
        "\n",
        "# Indentação\n",
        "\n",
        "O Python é fortemente impulsionado por indentação de código e espaço em branco. Isso significa que a legibilidade do código é uma parte essencial do design da linguagem.\n",
        "\n"
      ]
    },
    {
      "cell_type": "markdown",
      "metadata": {
        "id": "hU5VT49OMem_"
      },
      "source": [
        "## Números\n",
        "\n",
        "# Tipos de números\n",
        "\n",
        "Python tem vários \"tipos\" de números (literais numéricos). Nós nos concentraremos principalmente em números inteiros e números de ponto flutuante.\n",
        "\n",
        "Inteiros são apenas números inteiros, positivos ou negativos. Por exemplo: 2 e -2 são exemplos de números inteiros.\n",
        "\n",
        "Os números de pontos flutuantes em Python são notáveis porque eles têm um ponto decimal neles, ou usam uma exponencial (e) para definir o número. Por exemplo, 2.0 e -2.1 são exemplos de números de ponto flutuante. 4E2 (4 vezes 10 para o poder de 2) também é um exemplo de um número de ponto flutuante em Python.\n",
        "\n",
        "Ao longo deste curso, trabalharemos principalmente com números inteiros ou tipos simples de números de flutuação.\n",
        "\n",
        "Aqui está uma tabela dos dois tipos principais que passaremos a maior parte do tempo trabalhando com alguns exemplos:\n",
        "\n",
        "|Exemplo   |Tipo   |\n",
        "|---|---|\n",
        "|1,2, -5, 1000   | números inteiros  |\n",
        "|1.2, -0.5, 2e2. 3E2 | números ponto flutuante  |\n",
        "\n",
        "\n",
        "# Operadores Matemáticos\n",
        "\n",
        "|Exemplo   |Descrição   | Exemplo |\n",
        "|---|---|---|\n",
        "| + | Soma  | 5+5 = 10 |\n",
        "| - | Substração  | 7-2 = 5 |\n",
        "| * | Multiplicação  | 2*2 = 4 |\n",
        "| / | Divisão  | 4/2 = 2 |\n",
        "| % | Resto  | 10%3 = 1 |\n",
        "| ** | Potência  | 4**2 = 16 |\n",
        "\n",
        "Exemplos:"
      ]
    },
    {
      "cell_type": "code",
      "execution_count": null,
      "metadata": {
        "id": "Q10TofdjMem_"
      },
      "outputs": [],
      "source": [
        "2+1 #soma"
      ]
    },
    {
      "cell_type": "code",
      "execution_count": null,
      "metadata": {
        "id": "YEMXor2mMem_"
      },
      "outputs": [],
      "source": [
        "2-1 #substração"
      ]
    },
    {
      "cell_type": "code",
      "execution_count": null,
      "metadata": {
        "id": "q7DT5FARMem_"
      },
      "outputs": [],
      "source": [
        "2*2 #multiplicação"
      ]
    },
    {
      "cell_type": "code",
      "execution_count": null,
      "metadata": {
        "id": "NunDsqqHMenA"
      },
      "outputs": [],
      "source": [
        "3/2 #divisão"
      ]
    },
    {
      "cell_type": "code",
      "execution_count": null,
      "metadata": {
        "id": "uFobIsrkMenA"
      },
      "outputs": [],
      "source": [
        "3.0/2 #divisão com um nro float "
      ]
    },
    {
      "cell_type": "code",
      "execution_count": null,
      "metadata": {
        "id": "Yyijpwp6MenA"
      },
      "outputs": [],
      "source": [
        "3/2.0 #funciona com qualquer combinação"
      ]
    },
    {
      "cell_type": "code",
      "execution_count": null,
      "metadata": {
        "id": "u-ZqvANqMenA"
      },
      "outputs": [],
      "source": [
        "2**3 #potência"
      ]
    },
    {
      "cell_type": "code",
      "execution_count": null,
      "metadata": {
        "id": "mbQ6MVbIMenA"
      },
      "outputs": [],
      "source": [
        "2 + 10 * 10 + 3 #ordem dos operadores igual na matemática"
      ]
    },
    {
      "cell_type": "code",
      "execution_count": null,
      "metadata": {
        "id": "Q7jLBDzhMenA"
      },
      "outputs": [],
      "source": [
        "(2+10) * (10+3) #uso de parenteses para definir a ordem no calculo."
      ]
    },
    {
      "cell_type": "markdown",
      "metadata": {
        "id": "JvoM0a4sMenB"
      },
      "source": [
        "## Atribuição de Variáveis\n",
        "\n",
        "Agora que vimos como usar números em Python como calculadora, vejamos como podemos atribuir nomes e criar variáveis.\n",
        "\n",
        "Usamos um único sinal de igual para atribuir rótulos às variáveis. Vejamos alguns exemplos de como podemos fazer isso."
      ]
    },
    {
      "cell_type": "code",
      "execution_count": null,
      "metadata": {
        "id": "HG8s_gD-MenB"
      },
      "outputs": [],
      "source": [
        "a=5 #atribuição"
      ]
    },
    {
      "cell_type": "markdown",
      "metadata": {
        "id": "bxtdkqBlMenB"
      },
      "source": [
        "Agora, eu chamarmos \"a\" no meu script python, a linguagem tratará isso como o número 5"
      ]
    },
    {
      "cell_type": "code",
      "execution_count": null,
      "metadata": {
        "id": "SNWoaI6HMenB"
      },
      "outputs": [],
      "source": [
        "a+a"
      ]
    },
    {
      "cell_type": "markdown",
      "metadata": {
        "id": "PgSHBKEGMenB"
      },
      "source": [
        "O que acontece na redefinição ? Python nos deixa escrever sobre os valores anterior ?"
      ]
    },
    {
      "cell_type": "code",
      "execution_count": null,
      "metadata": {
        "id": "EFsMpkLqMenB"
      },
      "outputs": [],
      "source": [
        "a = 10 #sobrescrever"
      ]
    },
    {
      "cell_type": "code",
      "execution_count": null,
      "metadata": {
        "id": "LUvkaxwwMenC"
      },
      "outputs": [],
      "source": [
        "a #checando"
      ]
    },
    {
      "cell_type": "code",
      "execution_count": null,
      "metadata": {
        "id": "XPZnGBvvMenC"
      },
      "outputs": [],
      "source": [
        "a = a + a #usando a para definir a"
      ]
    },
    {
      "cell_type": "markdown",
      "metadata": {
        "id": "kn5g0dEMMenC"
      },
      "source": [
        "Os nomes que você usa ao criar esses rótulos precisam seguir algumas regras:\n",
        "\n",
        "1. Os nomes não podem começar com um número.\n",
        "\n",
        "2. Não pode haver espaços no nome. Use _ em vez disso. 3. Não é possível usar nenhum desses símbolos: '\", <> /? | \\ ()! @ # $% ^ & * ~ - + 3. É considerada a melhor prática (PEP8) que os nomes são minúsculos.\n",
        "\n",
        "Usar nomes de variáveis pode ser uma maneira muito útil de acompanhar diferentes variáveis em Python. Por exemplo:"
      ]
    },
    {
      "cell_type": "code",
      "execution_count": null,
      "metadata": {
        "id": "1nvmVMjfMenC"
      },
      "outputs": [],
      "source": [
        "#usar nomes de objetos para manter uma melhor relação com o que esta acontecendo\n",
        "my_income = 100\n",
        "tax_rate=0.1\n",
        "my_taxes = my_income*tax_rate"
      ]
    },
    {
      "cell_type": "code",
      "execution_count": null,
      "metadata": {
        "id": "fVQj1GguMenC"
      },
      "outputs": [],
      "source": [
        "my_taxes #mostra  as taxas"
      ]
    },
    {
      "cell_type": "markdown",
      "metadata": {
        "id": "yueXghFfMenC"
      },
      "source": [
        "Então, o que aprendemos? Aprendemos alguns dos conceitos básicos dos números emPython. Também aprendemos a fazer aritmética e usar Python como uma calculadora básica. Em seguida, o envolvemos com o aprendizado sobre a atribuição variável em Python.\n",
        "\n",
        "Em seguida, aprenderemos sobre Strings!"
      ]
    },
    {
      "cell_type": "markdown",
      "metadata": {
        "id": "acOmRJsnMenD"
      },
      "source": [
        "## Strings\n",
        "\n",
        "As strings são usadas em Python para registrar informações de texto, como nome. As cordas em Python são na verdade uma seqüência, o que basicamente significa que o Python acompanha cada elemento da seqüência de caracteres como uma seqüência. Por exemplo, Python entende a string \"hello\" como uma seqüência de letras em uma ordem específica. Isso significa que poderemos usar a indexação para pegar letras particulares (como a primeira letra ou a última letra).\n",
        "\n",
        "Essa idéia de uma seqüência é importante em Python e nós vamos abordá-la mais tarde.\n",
        "\n",
        "Nesta palestra, aprenderemos os seguintes tópicos:\n",
        "\n",
        "1. Criando Strings\n",
        "\n",
        "2. Impressão de coStringsrdas\n",
        "\n",
        "3. Indexação e corte de strings\n",
        "\n",
        "4. Propriedades da Cadeia de Caracteres\n",
        "\n",
        "5. Métodos de Strings\n",
        "\n",
        "6. Formatação de impressão\n",
        "\n",
        "# Criando uma String\n",
        "\n",
        "Para criar uma string em Python, você precisa usar aspas simples ou aspas duplas. Por exemplo:"
      ]
    },
    {
      "cell_type": "code",
      "execution_count": null,
      "metadata": {
        "id": "aUCMSGOFMenD"
      },
      "outputs": [],
      "source": [
        "#uma palavra\n",
        "'hello'"
      ]
    },
    {
      "cell_type": "code",
      "execution_count": null,
      "metadata": {
        "id": "TiAHsDQCMenD"
      },
      "outputs": [],
      "source": [
        "#uma frase inteira\n",
        "'This is also a string'"
      ]
    },
    {
      "cell_type": "code",
      "execution_count": null,
      "metadata": {
        "id": "ZJ44AABLMenD"
      },
      "outputs": [],
      "source": [
        "#também é possível com aspas duplas\n",
        "\"string built with double quotes\""
      ]
    },
    {
      "cell_type": "markdown",
      "metadata": {
        "id": "VJp8eEkLMenD"
      },
      "source": [
        "## Imprimindo uma String\n",
        "\n",
        "Usando o Jupyter Notebook com apenas uma seqüência de caracteres em uma célula emitirá automaticamente cadeias de caracteres, mas a maneira correta de exibir cadeias na sua saída é usando uma função de impressão."
      ]
    },
    {
      "cell_type": "code",
      "execution_count": null,
      "metadata": {
        "id": "DTKTSG4EMenD"
      },
      "outputs": [],
      "source": [
        "#podemos simplesmente declarar uma string\n",
        "'Hello World'"
      ]
    },
    {
      "cell_type": "code",
      "execution_count": null,
      "metadata": {
        "id": "Fsyd-JipMenE"
      },
      "outputs": [],
      "source": [
        "#note que podemos imprimir várias strings assim\n",
        "'Hello World 1'\n",
        "'Hello World 2'"
      ]
    },
    {
      "cell_type": "markdown",
      "metadata": {
        "id": "T335CuF1MenE"
      },
      "source": [
        "Mas a maneira correta (inclusive utilizando IDE's) é utilizar o método print()."
      ]
    },
    {
      "cell_type": "code",
      "execution_count": null,
      "metadata": {
        "id": "QyiyzvUeMenE"
      },
      "outputs": [],
      "source": [
        "print('Hello World 1')\n",
        "print('Hello World 2')\n",
        "print('Use \\n to print a new line')\n",
        "print('\\n')\n",
        "print('See what I mean?')"
      ]
    },
    {
      "cell_type": "markdown",
      "metadata": {
        "id": "EqF0YDqyMenE"
      },
      "source": [
        "Nós também podemos usar uma função chamada len() para verificar o comprimento de uma string!"
      ]
    },
    {
      "cell_type": "code",
      "execution_count": null,
      "metadata": {
        "id": "yJyW-D9bMenE"
      },
      "outputs": [],
      "source": [
        "len('Hello World')"
      ]
    },
    {
      "cell_type": "markdown",
      "metadata": {
        "id": "v-MMPARPMenE"
      },
      "source": [
        "## Indexação em Strings\n",
        "\n",
        "Sabemos que as strings são uma seqüência, o que significa que o Python pode usar índices para chamar partes da seqüência. Vamos aprender como isso funciona.\n",
        "\n",
        "Em Python, usamos colchetes [] após um objeto para chamar seu índice. \n",
        "\n",
        "Devemos também notar que a indexação começa em 0 para Python. Vamos criar um novo objeto chamado \"s\" e a caminharmos através de alguns exemplos de indexação."
      ]
    },
    {
      "cell_type": "code",
      "execution_count": null,
      "metadata": {
        "id": "aogKkxoyMenF"
      },
      "outputs": [],
      "source": [
        "#define \"s\" como uma string\n",
        "s = 'Hello World'"
      ]
    },
    {
      "cell_type": "code",
      "execution_count": null,
      "metadata": {
        "id": "d2klR72MMenF"
      },
      "outputs": [],
      "source": [
        "#checa \n",
        "a"
      ]
    },
    {
      "cell_type": "code",
      "execution_count": null,
      "metadata": {
        "id": "B5z5WrUeMenF"
      },
      "outputs": [],
      "source": [
        "#imprime o conteudo do objeto\n",
        "print(a)"
      ]
    },
    {
      "cell_type": "markdown",
      "metadata": {
        "id": "BLYmqc5gMenF"
      },
      "source": [
        "Ok! Vamos verificar o conteúdo da String de forma indexada."
      ]
    },
    {
      "cell_type": "code",
      "execution_count": null,
      "metadata": {
        "id": "zv3wQNApMenF"
      },
      "outputs": [],
      "source": [
        "#Mostra o primeiro elemento (neste caso uma letra)\n",
        "s[0]"
      ]
    },
    {
      "cell_type": "code",
      "execution_count": null,
      "metadata": {
        "id": "dcq6xeFkMenF"
      },
      "outputs": [],
      "source": [
        "#posicao 1\n",
        "s[1]"
      ]
    },
    {
      "cell_type": "markdown",
      "metadata": {
        "id": "ioMxi8P6MenF"
      },
      "source": [
        "Podemos usar um \":\" para executar um corte que pega tudo até um ponto designado. Por exemplo:"
      ]
    },
    {
      "cell_type": "code",
      "execution_count": null,
      "metadata": {
        "id": "lr077x-8MenG"
      },
      "outputs": [],
      "source": [
        "# Retorna todos elementos a partir do elemento de indice 1\n",
        "s[1:]"
      ]
    },
    {
      "cell_type": "code",
      "execution_count": null,
      "metadata": {
        "id": "2_2Tx4JzMenG"
      },
      "outputs": [],
      "source": [
        "# repare que não houve mudanças no primeiro elemento [0]\n",
        "s[0]"
      ]
    },
    {
      "cell_type": "code",
      "execution_count": null,
      "metadata": {
        "id": "9E4YALOxMenG"
      },
      "outputs": [],
      "source": [
        "# retorna utdo até o elemento de índice 3 (não incluso)\n",
        "s[:3]"
      ]
    },
    {
      "cell_type": "markdown",
      "metadata": {
        "id": "oMk_hvNxMenG"
      },
      "source": [
        "Observe o corte acima. Aqui, estamos dizendo ao Python que pegue tudo de 0 a 3. Não inclui o 3º índice. Você notará muito isso em Python, onde as declarações e geralmente são no contexto \"até, mas não incluindo\"."
      ]
    },
    {
      "cell_type": "code",
      "execution_count": null,
      "metadata": {
        "id": "YmsZwa4BMenG"
      },
      "outputs": [],
      "source": [
        "#tudo\n",
        "s[:]"
      ]
    },
    {
      "cell_type": "markdown",
      "metadata": {
        "id": "9WutmCxWMenG"
      },
      "source": [
        "Também podemos usar indexação negativa para retroceder."
      ]
    },
    {
      "cell_type": "code",
      "execution_count": null,
      "metadata": {
        "id": "sF0hpUyBMenG"
      },
      "outputs": [],
      "source": [
        "# Última letra (um índice antes do 0, então ele começa da parte de trás)\n",
        "s[-1]"
      ]
    },
    {
      "cell_type": "code",
      "execution_count": null,
      "metadata": {
        "id": "xsSeuLEoMenH"
      },
      "outputs": [],
      "source": [
        "# Pega tudo, menos a última letra\n",
        "s[:-1]"
      ]
    },
    {
      "cell_type": "markdown",
      "metadata": {
        "id": "HZlOVReLMenH"
      },
      "source": [
        "Também podemos usar notação de índice e fatia para capturar elementos de uma seqüência com espaçamentos (o espaçamento padrão é 1). \n",
        "\n",
        "Por exemplo, podemos usar dois dois pontos em uma linha e, em seguida, um número que especifica a freqüência para capturar elementos. Por exemplo:"
      ]
    },
    {
      "cell_type": "code",
      "execution_count": null,
      "metadata": {
        "id": "Ad8cb3U8MenH"
      },
      "outputs": [],
      "source": [
        "# Pega tudo, de 1 em 1\n",
        "s[::1]"
      ]
    },
    {
      "cell_type": "code",
      "execution_count": null,
      "metadata": {
        "id": "u8RZlS0vMenH"
      },
      "outputs": [],
      "source": [
        "# Pega tudo, mas os espaçamentos são de 2 em 2\n",
        "s[::2]"
      ]
    },
    {
      "cell_type": "code",
      "execution_count": null,
      "metadata": {
        "id": "oeAV4rvKMenH"
      },
      "outputs": [],
      "source": [
        "# Pega tudo, mas com passos negativos, de trás para frente.\n",
        "s[::-1]"
      ]
    },
    {
      "cell_type": "markdown",
      "metadata": {
        "id": "8oAI5_4RMenH"
      },
      "source": [
        "## Propriedades das Strings\n",
        "\n",
        "É importante notar que as strings têm uma propriedade importante conhecida como imutabilidade. Isso significa que, uma vez que uma string é criada, os elementos nele não podem ser alterados ou substituídos. Por exemplo:"
      ]
    },
    {
      "cell_type": "code",
      "execution_count": null,
      "metadata": {
        "id": "02-NiIpPMenH"
      },
      "outputs": [],
      "source": [
        "#mostra o conteudo de \"s\"\n",
        "s"
      ]
    },
    {
      "cell_type": "code",
      "execution_count": null,
      "metadata": {
        "id": "LIZzSjQLMenI"
      },
      "outputs": [],
      "source": [
        "# Vamos tentar mudar a primeira letra para 'x'\n",
        "s[0] = 'x'"
      ]
    },
    {
      "cell_type": "markdown",
      "metadata": {
        "id": "aUNL6EAGMenI"
      },
      "source": [
        "O código acima incorreu em um erro de execução devido a propriedade da imutabilidade.\n",
        "\n",
        "Observe como o erro nos diz diretamente o que não podemos fazer, alterar a atribuição do item!\n",
        "\n",
        "Algo que podemos fazer é concatenar strings!"
      ]
    },
    {
      "cell_type": "code",
      "execution_count": null,
      "metadata": {
        "id": "c1dyzUM2MenI"
      },
      "outputs": [],
      "source": [
        "#Concatenando o conteudo de \"s\" com uma string e alterando seu conteúdo\n",
        "s = s+ \" conatenate me!\""
      ]
    },
    {
      "cell_type": "code",
      "execution_count": null,
      "metadata": {
        "id": "mu0ksjGhMenI"
      },
      "outputs": [],
      "source": [
        "print(s)"
      ]
    },
    {
      "cell_type": "code",
      "execution_count": null,
      "metadata": {
        "id": "6JT6TyQuMenI"
      },
      "outputs": [],
      "source": [
        "s"
      ]
    },
    {
      "cell_type": "markdown",
      "metadata": {
        "id": "k0tMRe0hMenI"
      },
      "source": [
        "Podemos utilizar o símbolo da multiplicação para criar repetições!"
      ]
    },
    {
      "cell_type": "code",
      "execution_count": null,
      "metadata": {
        "id": "yPT9yVeMMenJ"
      },
      "outputs": [],
      "source": [
        "letter='z'"
      ]
    },
    {
      "cell_type": "code",
      "execution_count": null,
      "metadata": {
        "id": "_U1ioW0pMenJ"
      },
      "outputs": [],
      "source": [
        "letter*10"
      ]
    },
    {
      "cell_type": "markdown",
      "metadata": {
        "id": "RUBGGmGKMenJ"
      },
      "source": [
        "## Métodos embutidos em Strings\n",
        "\n",
        "Os objetos em Python geralmente possuem métodos internos. Esses métodos são funções dentro do objeto (aprenderemos sobre isso em muito mais profundidade depois) que podem executar ações ou comandos no próprio objeto.\n",
        "\n",
        "Chamamos métodos com um ponto e depois o nome do método. Os métodos estão na forma: \n",
        "\n",
        "objeto.método(parâmetros)\n",
        "\n",
        "\n",
        "Onde os parâmetros são argumentos extras que podemos passar para o método. \n",
        "\n",
        "Não se preocupe se os detalhes não fazem 100% de sentido agora. Mais tarde, criaremos nossos próprios objetos e funções!\n",
        "\n",
        "Aqui estão alguns exemplos de métodos internos em strings:"
      ]
    },
    {
      "cell_type": "code",
      "execution_count": null,
      "metadata": {
        "id": "HXQ-s-aUMenJ"
      },
      "outputs": [],
      "source": [
        "#coloca texto em caixa alta\n",
        "s.upper()"
      ]
    },
    {
      "cell_type": "code",
      "execution_count": null,
      "metadata": {
        "id": "OnmkXWRyMenJ"
      },
      "outputs": [],
      "source": [
        "#coloca o texto em caixa baixa\n",
        "s.lower()"
      ]
    },
    {
      "cell_type": "code",
      "execution_count": null,
      "metadata": {
        "id": "ObjtQfqrMenJ"
      },
      "outputs": [],
      "source": [
        "#divide uma string nos espaços em branco (este é o padrão)\n",
        "s.split()"
      ]
    },
    {
      "cell_type": "code",
      "execution_count": null,
      "metadata": {
        "id": "txAhpjaMMenJ"
      },
      "outputs": [],
      "source": [
        "# Divide em um elemento específico \n",
        "#(não inclui o elemento que foi dividido)\n",
        "s.split('W')"
      ]
    },
    {
      "cell_type": "code",
      "execution_count": null,
      "metadata": {
        "id": "vHkK8oBSMenK"
      },
      "outputs": [],
      "source": [
        "# retorna a string com a primeira letra maiuscula\n",
        "s.capitalize()"
      ]
    },
    {
      "cell_type": "code",
      "execution_count": null,
      "metadata": {
        "id": "9ypEip8HMenK"
      },
      "outputs": [],
      "source": [
        "#informa quantas vezes ua caractere (ou sequencia) aparece na string\n",
        "s.count('l')"
      ]
    },
    {
      "cell_type": "code",
      "execution_count": null,
      "metadata": {
        "id": "3xPn2zT8MenK"
      },
      "outputs": [],
      "source": [
        "#verifica se uma sring inicia com determina sequencia\n",
        "s.startswith(\"Hel\")"
      ]
    },
    {
      "cell_type": "code",
      "execution_count": null,
      "metadata": {
        "id": "0vM5tQxJMenK"
      },
      "outputs": [],
      "source": [
        "#verifica se uma string termina com uma determinada sequencia\n",
        "s.endswith('rld')"
      ]
    },
    {
      "cell_type": "code",
      "execution_count": null,
      "metadata": {
        "id": "xFjHTjpcMenK"
      },
      "outputs": [],
      "source": [
        "#verifica se a string possui algum conteúdo alfanumerico (letra e número)\n",
        "e='!@#$%'\n",
        "e.isalnum()"
      ]
    },
    {
      "cell_type": "code",
      "execution_count": null,
      "metadata": {
        "id": "0VnF0KT6MenK"
      },
      "outputs": [],
      "source": [
        "#verifica se a string possui apenas conteúdo alfabético\n",
        "s.isalpha()"
      ]
    },
    {
      "cell_type": "code",
      "execution_count": null,
      "metadata": {
        "id": "tlZsFwewMenK"
      },
      "outputs": [],
      "source": [
        "#verifica se todas as letras de uma string são maiusculas\n",
        "e=\"TESTE\"\n",
        "e.isupper()"
      ]
    },
    {
      "cell_type": "code",
      "execution_count": null,
      "metadata": {
        "id": "pbUEKsX-MenL"
      },
      "outputs": [],
      "source": [
        "#verifica se todas as letras de uma string são minusculas\n",
        "e=\"teste\"\n",
        "e.islower()"
      ]
    },
    {
      "cell_type": "code",
      "execution_count": null,
      "metadata": {
        "id": "qQOanpDoMenL"
      },
      "outputs": [],
      "source": [
        "#Inverte o conteúdo da string (maiusculo -> minusculo)\n",
        "k='Python'\n",
        "k.swapcase()"
      ]
    },
    {
      "cell_type": "code",
      "execution_count": null,
      "metadata": {
        "id": "xMaJO91aMenL"
      },
      "outputs": [],
      "source": [
        "#Converte para maiusculo todas as primeiras letras de cada palavra da string\n",
        "k=\"apostila de python\"\n",
        "k.title()"
      ]
    },
    {
      "cell_type": "code",
      "execution_count": null,
      "metadata": {
        "id": "RcFI4jlvMenL"
      },
      "outputs": [],
      "source": [
        "#substitui na string o trecho S1 pelo trecho S2\n",
        "k = 'Apostila Teste'\n",
        "print(k.replace('Teste', 'de Python'))\n"
      ]
    },
    {
      "cell_type": "code",
      "execution_count": null,
      "metadata": {
        "id": "rEW4HR61MenL"
      },
      "outputs": [],
      "source": [
        "#retorna o índice da primeira ocorrência de um determinado caractere\n",
        "#na string. Se o caractere não estiver na string retorna -1\n",
        "k='Apostila de Python'\n",
        "print(k)\n",
        "k.find('h')\n"
      ]
    },
    {
      "cell_type": "code",
      "execution_count": null,
      "metadata": {
        "id": "fR-MP2inMenL"
      },
      "outputs": [],
      "source": [
        "k.find('u')"
      ]
    },
    {
      "cell_type": "code",
      "execution_count": null,
      "metadata": {
        "id": "pAjP5MRJMenL"
      },
      "outputs": [],
      "source": [
        "#ajusta a string a um tamanho mínimo, \n",
        "#acrescentando espaços a direita se necessário\n",
        "p='Python'\n",
        "len(p)\n"
      ]
    },
    {
      "cell_type": "code",
      "execution_count": null,
      "metadata": {
        "id": "y9qoO942MenM"
      },
      "outputs": [],
      "source": [
        "len(p.ljust(20))"
      ]
    },
    {
      "cell_type": "code",
      "execution_count": null,
      "metadata": {
        "id": "PWG7QMwSMenM"
      },
      "outputs": [],
      "source": [
        "#ajusta a string a um tamanho mínimo, \n",
        "#acrescentando espaços a esquerda se necessário\n",
        "p='Python'\n",
        "len(p)\n"
      ]
    },
    {
      "cell_type": "code",
      "execution_count": null,
      "metadata": {
        "id": "Y32ywo0IMenM"
      },
      "outputs": [],
      "source": [
        "len(p.rjust(20))"
      ]
    },
    {
      "cell_type": "code",
      "execution_count": null,
      "metadata": {
        "id": "C6KkWPX1MenM"
      },
      "outputs": [],
      "source": [
        "#ajusta a string para um tamanho mínimo, acrescentando espalos à direita e a esqueda se necessário\n",
        "p='Python'\n",
        "print(p.center(30))"
      ]
    },
    {
      "cell_type": "code",
      "execution_count": null,
      "metadata": {
        "id": "gpH3BmTDMenM"
      },
      "outputs": [],
      "source": [
        "#remove todos os espaços em branco do lado esquedo da string\n",
        "p='      Python      '\n",
        "print(\"-\")\n",
        "print(\"-\"+p.lstrip()+\"-\")"
      ]
    },
    {
      "cell_type": "code",
      "execution_count": null,
      "metadata": {
        "id": "6zv-UiahMenM"
      },
      "outputs": [],
      "source": [
        "#remove todos os espaços em branco do lado direito da string\n",
        "p='      Python      '\n",
        "print(\"-\")\n",
        "print(\"-\"+p.rstrip()+\"-\")"
      ]
    },
    {
      "cell_type": "code",
      "execution_count": null,
      "metadata": {
        "id": "P19qgmjmMenM"
      },
      "outputs": [],
      "source": [
        "#remove todos os espaços em branco  da string\n",
        "p='      Python      '\n",
        "print(\"-\")\n",
        "print(\"-\"+p.strip()+\"-\")"
      ]
    },
    {
      "cell_type": "markdown",
      "metadata": {
        "id": "Joksb4PrMenN"
      },
      "source": [
        "## Formatação da Impressão\n",
        "\n",
        "Podemos usar o método .format() para adicionar objetos formatados a instruções de impressões.\n",
        "\n",
        "A maneira mais fácil de mostrar isso é através de um exemplo:"
      ]
    },
    {
      "cell_type": "code",
      "execution_count": null,
      "metadata": {
        "id": "6pjRSXpAMenN"
      },
      "outputs": [],
      "source": [
        "'Insert another string with curly brackets: {}'.format('The inserted string')"
      ]
    },
    {
      "cell_type": "markdown",
      "metadata": {
        "id": "bhtcgT_9MenN"
      },
      "source": [
        "Se tentarmos concatenar diretamente a saida na função print() com uma variavel numérica ocasionará um erro de execução."
      ]
    },
    {
      "cell_type": "code",
      "execution_count": null,
      "metadata": {
        "id": "0du5o-oDMenN"
      },
      "outputs": [],
      "source": [
        "salario = 10000\n",
        "print(\"O valor do salario e\"+salario)"
      ]
    },
    {
      "cell_type": "markdown",
      "metadata": {
        "id": "z7ZS5AuzMenN"
      },
      "source": [
        "Através do format corrigimos esse problema."
      ]
    },
    {
      "cell_type": "code",
      "execution_count": null,
      "metadata": {
        "id": "2WuS-vgLMenN"
      },
      "outputs": [],
      "source": [
        "salario = 10000\n",
        "print('O salario informado e de {} reais mensais'.format(salario))"
      ]
    },
    {
      "cell_type": "markdown",
      "metadata": {
        "id": "6yrPq3bJMenN"
      },
      "source": [
        "Quanto concatenamos strings na saida do print não temos problemas."
      ]
    },
    {
      "cell_type": "code",
      "execution_count": null,
      "metadata": {
        "id": "3D2B2awaMenO"
      },
      "outputs": [],
      "source": [
        "texto01 = \"teste de texto\"\n",
        "texto02 = \" digitado pelo aluno\"\n",
        "print(texto01+texto02)"
      ]
    },
    {
      "cell_type": "markdown",
      "metadata": {
        "id": "BYu4DktgMenO"
      },
      "source": [
        "## Listas\n",
        "\n",
        "Anteriormente, ao discutir strings, introduzimos o conceito de sequência em Python. \n",
        "\n",
        "As listas podem ser pensadas na versão mais geral de uma sequência em Python. \n",
        "\n",
        "Ao contrário das strings, eles são mutáveis, o que significa que os elementos dentro de uma lista podem ser alterados!\n",
        "\n",
        "As listas são construídas com colchetes [] e vírgulas que separam cada elemento da lista.\n",
        "\n",
        "Lista é um conjunto sequencial de valores, onde cada valor é identificado através de um índice. O primeiro valor tem índice 0. Uma lista em Python é declarada da seguinte forma:\n",
        "\n",
        "Nome_Lista = [ valor1, valor2, ..., valorN]\n",
        "\n",
        "Uma lista pode ter valores de qualquer tipo, incluindo outras listas.\n",
        "\n",
        "Exemplo:"
      ]
    },
    {
      "cell_type": "code",
      "execution_count": 1,
      "metadata": {
        "id": "Hfj-rnDOMenO",
        "colab": {
          "base_uri": "https://localhost:8080/"
        },
        "outputId": "b793fb83-bac4-44cb-d568-95211c48a8cd"
      },
      "outputs": [
        {
          "output_type": "stream",
          "name": "stdout",
          "text": [
            "[3, 'abacate', 9.7, [1, 2, 3], 'Python', (3, 'j')]\n"
          ]
        }
      ],
      "source": [
        "#lista com mutlimos tipos de dados (inteiro, string, real, lista, string, dicionario)\n",
        "l = [3, 'abacate', 9.7, [1,2,3], \"Python\", (3,\"j\")]\n",
        "print(l)"
      ]
    },
    {
      "cell_type": "markdown",
      "metadata": {
        "id": "jSU08dH-MenO"
      },
      "source": [
        "Assim como as strings, a função len() irá dizer-lhe quantos itens estão na sequência da lista."
      ]
    },
    {
      "cell_type": "code",
      "execution_count": null,
      "metadata": {
        "id": "uz3vt1WpMenO"
      },
      "outputs": [],
      "source": [
        "len(l)"
      ]
    },
    {
      "cell_type": "code",
      "source": [
        "print(type(l[0]))\n",
        "print(type(l[1]))\n",
        "print(type(l[2]))\n",
        "print(type(l[3]))\n",
        "print(type(l[4]))\n",
        "print(type(l[5]))\n"
      ],
      "metadata": {
        "colab": {
          "base_uri": "https://localhost:8080/"
        },
        "id": "5RRrgo3OB_o3",
        "outputId": "00da8d6e-57c4-4b23-cb57-fb97a08ff40d"
      },
      "execution_count": 3,
      "outputs": [
        {
          "output_type": "stream",
          "name": "stdout",
          "text": [
            "<class 'int'>\n",
            "<class 'str'>\n",
            "<class 'float'>\n",
            "<class 'list'>\n",
            "<class 'str'>\n",
            "<class 'tuple'>\n"
          ]
        }
      ]
    },
    {
      "cell_type": "markdown",
      "metadata": {
        "id": "DfH3mHQqMenO"
      },
      "source": [
        "## Listas - Indexação e Corte\n",
        "\n",
        "Indexar e cortar funciona exatamente como em strings. Vamos fazer uma nova lista para nos\n",
        "\n",
        "lembrar de como isso funciona:"
      ]
    },
    {
      "cell_type": "code",
      "execution_count": 9,
      "metadata": {
        "id": "Lyog0T57MenO",
        "colab": {
          "base_uri": "https://localhost:8080/"
        },
        "outputId": "5c15a2c5-7494-437d-d94d-eeb8847f21fa"
      },
      "outputs": [
        {
          "output_type": "stream",
          "name": "stdout",
          "text": [
            "9.7\n"
          ]
        }
      ],
      "source": [
        "#pega o terceiro elemento da lista\n",
        "print(l[2])"
      ]
    },
    {
      "cell_type": "code",
      "execution_count": 8,
      "metadata": {
        "id": "XqndiwiJMenO",
        "colab": {
          "base_uri": "https://localhost:8080/"
        },
        "outputId": "ef312f9f-5845-4342-e4c3-83529ddb78b3"
      },
      "outputs": [
        {
          "output_type": "stream",
          "name": "stdout",
          "text": [
            "[1, 2, 3]\n"
          ]
        }
      ],
      "source": [
        "#pega o quarto elemento da lista\n",
        "print(l[3])"
      ]
    },
    {
      "cell_type": "code",
      "execution_count": 7,
      "metadata": {
        "id": "IUobxCmpMenP",
        "colab": {
          "base_uri": "https://localhost:8080/"
        },
        "outputId": "2f7589cb-4060-4782-f7bd-84db801d932d"
      },
      "outputs": [
        {
          "output_type": "stream",
          "name": "stdout",
          "text": [
            "2\n"
          ]
        }
      ],
      "source": [
        "#quando o elemento da lista é uma outra lista podemos passar a posição\n",
        "#do elemento da primeira lista e da segundad lista \n",
        "#funcionando como uma matriz\n",
        "print(l[3][1])"
      ]
    },
    {
      "cell_type": "code",
      "execution_count": 6,
      "metadata": {
        "id": "wHzuPh2yMenP",
        "colab": {
          "base_uri": "https://localhost:8080/"
        },
        "outputId": "465f7926-4bb0-46f0-e2c8-3a86b3769dae"
      },
      "outputs": [
        {
          "output_type": "stream",
          "name": "stdout",
          "text": [
            "['abacate', 9.7, [1, 2, 3], 'Python', (3, 'j')]\n"
          ]
        }
      ],
      "source": [
        "#podemos também pegar todos os elementos a  partir de um determinado indice.\n",
        "print(l[1:])"
      ]
    },
    {
      "cell_type": "code",
      "execution_count": 4,
      "metadata": {
        "id": "rGNEFhGdMenP",
        "colab": {
          "base_uri": "https://localhost:8080/"
        },
        "outputId": "d94784f4-9b54-434e-e64c-8aee6bbcbeda"
      },
      "outputs": [
        {
          "output_type": "stream",
          "name": "stdout",
          "text": [
            "[3, 'abacate', 9.7]\n"
          ]
        }
      ],
      "source": [
        "#podemos pegar todos elementos até um determinado indice\n",
        "print(l[:3])"
      ]
    },
    {
      "cell_type": "code",
      "source": [
        "#Posição 3 da lista é uma outra lista\n",
        "#é possível pegar da lista interna todos os elementos a partir do indexador 1\n",
        "print(l[3][1:])"
      ],
      "metadata": {
        "colab": {
          "base_uri": "https://localhost:8080/"
        },
        "id": "e7Y-vYAZDfFE",
        "outputId": "e5aba3b0-566b-4632-efb3-a47059923b3b"
      },
      "execution_count": 10,
      "outputs": [
        {
          "output_type": "stream",
          "name": "stdout",
          "text": [
            "[2, 3]\n"
          ]
        }
      ]
    },
    {
      "cell_type": "markdown",
      "metadata": {
        "id": "kKBAe7JuMenP"
      },
      "source": [
        "Para alterar um elemento da lista, basta fazer uma atribuição de valor através do índice. O valor existente será substituído pelo novo valor.\n",
        "\n",
        "Exemplo:"
      ]
    },
    {
      "cell_type": "code",
      "execution_count": 11,
      "metadata": {
        "id": "70Yg4kprMenQ",
        "colab": {
          "base_uri": "https://localhost:8080/"
        },
        "outputId": "702f29ac-a3f4-4f83-a725-ada8d8e29557"
      },
      "outputs": [
        {
          "output_type": "stream",
          "name": "stdout",
          "text": [
            "[3, 'abacate', 9.7, 'morango', 'Python', (3, 'j')]\n"
          ]
        }
      ],
      "source": [
        "l[3] = 'morango'\n",
        "print(l)"
      ]
    },
    {
      "cell_type": "markdown",
      "metadata": {
        "id": "MGqoTVI-MenQ"
      },
      "source": [
        "A tentativa de acesso a um índice inexistente resultará em um erro !"
      ]
    },
    {
      "cell_type": "code",
      "execution_count": 12,
      "metadata": {
        "id": "xP7dC5IRMenQ",
        "colab": {
          "base_uri": "https://localhost:8080/",
          "height": 165
        },
        "outputId": "7500d966-e02a-408b-b72f-7edea7871b26"
      },
      "outputs": [
        {
          "output_type": "error",
          "ename": "IndexError",
          "evalue": "ignored",
          "traceback": [
            "\u001b[0;31m---------------------------------------------------------------------------\u001b[0m",
            "\u001b[0;31mIndexError\u001b[0m                                Traceback (most recent call last)",
            "\u001b[0;32m<ipython-input-12-e5e239b64d27>\u001b[0m in \u001b[0;36m<cell line: 1>\u001b[0;34m()\u001b[0m\n\u001b[0;32m----> 1\u001b[0;31m \u001b[0mprint\u001b[0m\u001b[0;34m(\u001b[0m\u001b[0ml\u001b[0m\u001b[0;34m[\u001b[0m\u001b[0;36m7\u001b[0m\u001b[0;34m]\u001b[0m\u001b[0;34m)\u001b[0m\u001b[0;34m\u001b[0m\u001b[0;34m\u001b[0m\u001b[0m\n\u001b[0m",
            "\u001b[0;31mIndexError\u001b[0m: list index out of range"
          ]
        }
      ],
      "source": [
        "print(l[7])"
      ]
    },
    {
      "cell_type": "markdown",
      "metadata": {
        "id": "TLuxJxNJMenQ"
      },
      "source": [
        "Podemos realizar a concatenação de listas com o \"+\", sem necessáriamente alterar os seus valores permanentemente."
      ]
    },
    {
      "cell_type": "code",
      "execution_count": 13,
      "metadata": {
        "id": "O1nr1MTLMenQ",
        "colab": {
          "base_uri": "https://localhost:8080/"
        },
        "outputId": "ce821d47-b13f-4467-ae7e-60dbabc40d86"
      },
      "outputs": [
        {
          "output_type": "stream",
          "name": "stdout",
          "text": [
            "[1, 2, 3, 4, 5, 6, 7, 8]\n"
          ]
        }
      ],
      "source": [
        "lista01 = [1,2,3,4]\n",
        "lista02 = [5,6,7,8]\n",
        "print(lista01+lista02)\n",
        "print(lista01)\n",
        "print(lista02)\n",
        "#o codigo acima apenas concatena as listas na saída do print não altera seus valores originais"
      ]
    },
    {
      "cell_type": "markdown",
      "metadata": {
        "id": "oe91wonwMenQ"
      },
      "source": [
        "Se necessário realizar a mudança permanente basta fazer uma atribuição."
      ]
    },
    {
      "cell_type": "code",
      "execution_count": 14,
      "metadata": {
        "id": "1OMfelgOMenR",
        "colab": {
          "base_uri": "https://localhost:8080/"
        },
        "outputId": "4c3556b8-b41f-4cc5-d166-4aae5771cca1"
      },
      "outputs": [
        {
          "output_type": "stream",
          "name": "stdout",
          "text": [
            "[1, 2, 3, 4, 5, 6, 7, 8]\n"
          ]
        }
      ],
      "source": [
        "lista03 = lista01+lista02\n",
        "print(lista03)"
      ]
    },
    {
      "cell_type": "markdown",
      "metadata": {
        "id": "vzLE1VPiMenR"
      },
      "source": [
        "Também, como ocorre com as strings, podemos realizar a duplicação com o simbolo de \"*\" das listas."
      ]
    },
    {
      "cell_type": "code",
      "execution_count": 15,
      "metadata": {
        "id": "KTqQtzy0MenR",
        "colab": {
          "base_uri": "https://localhost:8080/"
        },
        "outputId": "20b38348-1356-43f9-b1ba-3b3a855152c6"
      },
      "outputs": [
        {
          "output_type": "stream",
          "name": "stdout",
          "text": [
            "[1, 2, 3, 4, 5, 6, 7, 8, 1, 2, 3, 4, 5, 6, 7, 8, 1, 2, 3, 4, 5, 6, 7, 8]\n"
          ]
        }
      ],
      "source": [
        "print(lista03*3)"
      ]
    },
    {
      "cell_type": "markdown",
      "metadata": {
        "id": "ZxRl5x-WMenR"
      },
      "source": [
        "## Listas - Métodos\n",
        "\n",
        "Se você está familiarizado com outra linguagem de programação, você pode começar a comprar arrays em outro idioma e listas em Python. \n",
        "\n",
        "As listas em Python, no entanto, tendem a ser mais flexíveis do que arrays em outras línguas por dois bons motivos: eles não têm\n",
        "tamanho fixo (o que significa que não precisamos especificar o tamanho de uma lista), e eles não têm restrição de tipo fixo (como já vimos acima).\n",
        "\n",
        "Vamos prosseguir e explore alguns métodos mais especiais para listas:"
      ]
    },
    {
      "cell_type": "code",
      "execution_count": 16,
      "metadata": {
        "id": "gfkGU_-vMenR",
        "colab": {
          "base_uri": "https://localhost:8080/"
        },
        "outputId": "e82e501e-06a7-4dd1-a010-cb0f1c4dfcc3"
      },
      "outputs": [
        {
          "output_type": "stream",
          "name": "stdout",
          "text": [
            "[1, 2, 3]\n"
          ]
        }
      ],
      "source": [
        "#cria lista\n",
        "l = [1,2,3]\n",
        "print(l)"
      ]
    },
    {
      "cell_type": "code",
      "execution_count": 17,
      "metadata": {
        "id": "2dPg00-FMenR",
        "colab": {
          "base_uri": "https://localhost:8080/"
        },
        "outputId": "a6e2d306-abcd-4f36-f831-0e1b80c3c6ef"
      },
      "outputs": [
        {
          "output_type": "stream",
          "name": "stdout",
          "text": [
            "[1, 2, 3, 'insira-me']\n"
          ]
        }
      ],
      "source": [
        "#adiciona elemento ao final da lista\n",
        "l.append('insira-me')\n",
        "print(l)"
      ]
    },
    {
      "cell_type": "code",
      "execution_count": 18,
      "metadata": {
        "id": "DDWOCnhUMenR",
        "colab": {
          "base_uri": "https://localhost:8080/"
        },
        "outputId": "498899d3-3bba-4d28-f620-937c6846ca57"
      },
      "outputs": [
        {
          "output_type": "stream",
          "name": "stdout",
          "text": [
            "[2, 3, 'insira-me']\n"
          ]
        }
      ],
      "source": [
        "#retira elemento da lista\n",
        "#Por padrão o pop retira o último elemento da lista, \n",
        "#mas também podemos especificar qual queremos retirar\n",
        "l.pop(0)\n",
        "print(l)"
      ]
    },
    {
      "cell_type": "code",
      "execution_count": 19,
      "metadata": {
        "id": "CRTG63E4MenS",
        "colab": {
          "base_uri": "https://localhost:8080/"
        },
        "outputId": "b1885bdc-4b09-4b72-c7e9-218db93b1dda"
      },
      "outputs": [
        {
          "output_type": "stream",
          "name": "stdout",
          "text": [
            "insira-me\n"
          ]
        }
      ],
      "source": [
        "#retira ultimo elemento e armazena em variavel\n",
        "item_excluido = l.pop()\n",
        "print(item_excluido)"
      ]
    },
    {
      "cell_type": "code",
      "execution_count": 20,
      "metadata": {
        "id": "UxcxxmLJMenS",
        "colab": {
          "base_uri": "https://localhost:8080/"
        },
        "outputId": "f26f508b-3990-41a8-f94f-ae295cae3087"
      },
      "outputs": [
        {
          "output_type": "stream",
          "name": "stdout",
          "text": [
            "[2, 3]\n"
          ]
        }
      ],
      "source": [
        "#visualiza a lista\n",
        "print(l)"
      ]
    },
    {
      "cell_type": "markdown",
      "metadata": {
        "id": "-P5x2UnCMenS"
      },
      "source": [
        "Podemos usar o método sort e o método reverse para alterar as listas."
      ]
    },
    {
      "cell_type": "code",
      "execution_count": 21,
      "metadata": {
        "id": "weX7sT7tMenS",
        "colab": {
          "base_uri": "https://localhost:8080/"
        },
        "outputId": "66827b91-6a11-4388-ca81-cdb0260ab022"
      },
      "outputs": [
        {
          "output_type": "stream",
          "name": "stdout",
          "text": [
            "['a', 'e', 'x', 'b', 'c']\n"
          ]
        }
      ],
      "source": [
        "#cria a lista\n",
        "nova_lista = ['a', 'e', 'x', 'b', 'c']\n",
        "print(nova_lista)"
      ]
    },
    {
      "cell_type": "code",
      "execution_count": 22,
      "metadata": {
        "id": "zTPyCgAkMenS",
        "colab": {
          "base_uri": "https://localhost:8080/"
        },
        "outputId": "74c9d078-f452-4009-f168-b397a0f0145c"
      },
      "outputs": [
        {
          "output_type": "stream",
          "name": "stdout",
          "text": [
            "['c', 'b', 'x', 'e', 'a']\n"
          ]
        }
      ],
      "source": [
        "#use o reverse para reverter a ordem da lista\n",
        "#ATENÇÂO !!! Este método altera permanentemetne a ordem original da lista\n",
        "nova_lista.reverse()\n",
        "print(nova_lista)"
      ]
    },
    {
      "cell_type": "code",
      "execution_count": 23,
      "metadata": {
        "id": "JG2WI5oKMenS",
        "colab": {
          "base_uri": "https://localhost:8080/"
        },
        "outputId": "e0df8a15-7415-40d7-a531-c8005251b533"
      },
      "outputs": [
        {
          "output_type": "stream",
          "name": "stdout",
          "text": [
            "['a', 'b', 'c', 'e', 'x']\n"
          ]
        }
      ],
      "source": [
        "#para ordenar um alista use o sort\n",
        "nova_lista.sort()\n",
        "print(nova_lista)"
      ]
    },
    {
      "cell_type": "markdown",
      "metadata": {
        "id": "FSdtw3ktMenT"
      },
      "source": [
        "## Listas Aninhadas\n",
        "\n",
        "Uma ótima característica das estruturas de dados do Python é que eles suportam\n",
        "aninhamento . Isso significa que podemos ter estruturas de dados dentro das estruturas de\n",
        "dados. Por exemplo: uma lista dentro de uma lista.\n",
        "\n",
        "Vamos ver como isso funciona!"
      ]
    },
    {
      "cell_type": "code",
      "execution_count": 24,
      "metadata": {
        "id": "y5RF1C_NMenT",
        "colab": {
          "base_uri": "https://localhost:8080/"
        },
        "outputId": "0ac37cb5-0446-419b-fea8-e0a1f9cbe700"
      },
      "outputs": [
        {
          "output_type": "stream",
          "name": "stdout",
          "text": [
            "[1, 2, 3]\n",
            "[3, 4, 5]\n",
            "[6, 7, 8]\n"
          ]
        }
      ],
      "source": [
        "#vamos criar 3 listas\n",
        "list1 = [1,2,3]\n",
        "list2 = [3,4,5]\n",
        "list3 = [6,7,8]\n",
        "\n",
        "print(list1)\n",
        "print(list2)\n",
        "print(list3)\n",
        "\n"
      ]
    },
    {
      "cell_type": "code",
      "execution_count": 25,
      "metadata": {
        "id": "-EwkO7gcMenT",
        "colab": {
          "base_uri": "https://localhost:8080/"
        },
        "outputId": "897da73c-e56a-44d1-b62c-a944c77c54e1"
      },
      "outputs": [
        {
          "output_type": "stream",
          "name": "stdout",
          "text": [
            "[[1, 2, 3], [3, 4, 5], [6, 7, 8]]\n"
          ]
        }
      ],
      "source": [
        "#agora vamos montar uma matriz a partir de listas aninhadas\n",
        "\n",
        "matriz = [list1,list2,list3]\n",
        "print(matriz)"
      ]
    },
    {
      "cell_type": "code",
      "execution_count": 26,
      "metadata": {
        "id": "CSyXOjqkMenT",
        "colab": {
          "base_uri": "https://localhost:8080/"
        },
        "outputId": "171b2886-4607-417c-b156-6a278ab2e155"
      },
      "outputs": [
        {
          "output_type": "execute_result",
          "data": {
            "text/plain": [
              "[1, 2, 3]"
            ]
          },
          "metadata": {},
          "execution_count": 26
        }
      ],
      "source": [
        "#para pegar o primeiro elemento da matriz (1 linha ou 1 lista aninhada)\n",
        "matriz[0]"
      ]
    },
    {
      "cell_type": "code",
      "execution_count": 27,
      "metadata": {
        "id": "qOr-YopbMenU",
        "colab": {
          "base_uri": "https://localhost:8080/"
        },
        "outputId": "a4900668-636a-4056-e9db-c88a399eae9c"
      },
      "outputs": [
        {
          "output_type": "execute_result",
          "data": {
            "text/plain": [
              "1"
            ]
          },
          "metadata": {},
          "execution_count": 27
        }
      ],
      "source": [
        "#agora vamos pegar o primeiro elemento da primeira lista aninhada na matriz\n",
        "matriz[0][0]"
      ]
    },
    {
      "cell_type": "markdown",
      "metadata": {
        "id": "cMrXInh6MenU"
      },
      "source": [
        "Outras funções para listas"
      ]
    },
    {
      "cell_type": "code",
      "execution_count": 28,
      "metadata": {
        "id": "jtjAsAGqMenU"
      },
      "outputs": [],
      "source": [
        "#cria uma nova lista\n",
        "lista01 = [1,2,3,4,5,6,7,8,9]"
      ]
    },
    {
      "cell_type": "code",
      "execution_count": 29,
      "metadata": {
        "id": "shxcM4zGMenU",
        "colab": {
          "base_uri": "https://localhost:8080/"
        },
        "outputId": "246d338d-f1be-4f48-ebf2-453aca0d53f4"
      },
      "outputs": [
        {
          "output_type": "stream",
          "name": "stdout",
          "text": [
            "1\n"
          ]
        }
      ],
      "source": [
        "#retorna o menor valor da lista\n",
        "print(min(lista01))"
      ]
    },
    {
      "cell_type": "code",
      "execution_count": 30,
      "metadata": {
        "id": "KaWOuHymMenU",
        "colab": {
          "base_uri": "https://localhost:8080/"
        },
        "outputId": "fbe722ad-01bf-45a0-92cd-f320772b3ec3"
      },
      "outputs": [
        {
          "output_type": "stream",
          "name": "stdout",
          "text": [
            "9\n"
          ]
        }
      ],
      "source": [
        "#retorna o maior valor da lista\n",
        "print(max(lista01))"
      ]
    },
    {
      "cell_type": "code",
      "execution_count": 41,
      "metadata": {
        "id": "BoK_yFsSMenU",
        "colab": {
          "base_uri": "https://localhost:8080/"
        },
        "outputId": "e44a8c43-b3fc-4235-ee47-f42de3a29cdd"
      },
      "outputs": [
        {
          "output_type": "stream",
          "name": "stdout",
          "text": [
            "45\n"
          ]
        }
      ],
      "source": [
        "#retorna a soma dos valores da lista\n",
        "print(sum(lista01))"
      ]
    },
    {
      "cell_type": "code",
      "source": [
        "#Calcular a média\n",
        "import numpy as np\n",
        "print(np.average(lista01))\n",
        "print(sum(lista01)/len(lista01))"
      ],
      "metadata": {
        "colab": {
          "base_uri": "https://localhost:8080/"
        },
        "id": "Yxg_8AUMJL34",
        "outputId": "fcab348f-9edc-46f5-e223-ae5ed58aa745"
      },
      "execution_count": 42,
      "outputs": [
        {
          "output_type": "stream",
          "name": "stdout",
          "text": [
            "5.0\n"
          ]
        }
      ]
    },
    {
      "cell_type": "code",
      "execution_count": 32,
      "metadata": {
        "id": "2pQscbKDMenU",
        "colab": {
          "base_uri": "https://localhost:8080/"
        },
        "outputId": "bf82aa3e-4f06-48a0-9274-0ca773412e09"
      },
      "outputs": [
        {
          "output_type": "execute_result",
          "data": {
            "text/plain": [
              "True"
            ]
          },
          "metadata": {},
          "execution_count": 32
        }
      ],
      "source": [
        "#verifica se existe um elemento na lista\n",
        "3 in lista01"
      ]
    },
    {
      "cell_type": "markdown",
      "metadata": {
        "id": "ksKfZ22YMenV"
      },
      "source": [
        "## Dicionários\n",
        "\n",
        "Nós temos aprendido sobre sequências em Python, mas agora vamos mudar de engrenagem e aprender sobre mapeamentos em Python. Se você está familiarizado com outras linguagens, pode pensar nestes Dicionários como tabelas de hash.\n",
        "\n",
        "Esta seção servirá como uma breve introdução aos dicionários e consiste em:\n",
        "1.) Construindo um Dicionário\n",
        "2.) Acessando objetos de um dicionário \n",
        "3.) Dicionários de assentamento \n",
        "4.) Métodos básicos do dicionário\n",
        "\n",
        "Então, o que são os mapeamentos? \n",
        "\n",
        "Os mapeamentos são uma coleção de objetos que são armazenados por uma chave, ao contrário de uma seqüência que armazena objetos por sua posição relativa. Esta é uma distinção importante, uma vez que os mapeamentos não reterão a ordem, pois possuem objetos definidos por uma chave.\n",
        "\n",
        "Um dicionário de Python consiste em uma chave e depois em um valor associado. Esse valor\n",
        "pode ser quase qualquer objeto Python.\n",
        "\n",
        "# Construindo um Dicionário\n",
        "\n",
        "Vamos ver como podemos construir dicionários para obter uma melhor compreensão de como eles funcionam!\n"
      ]
    },
    {
      "cell_type": "code",
      "execution_count": 43,
      "metadata": {
        "id": "l1ip5UeaMenV"
      },
      "outputs": [],
      "source": [
        "# Cria um dicionário com {} e: que significa uma chave e um valor\n",
        "my_dict = {'key1':'value1','key2':'value2'}"
      ]
    },
    {
      "cell_type": "code",
      "execution_count": 44,
      "metadata": {
        "id": "jexy4teDMenV",
        "colab": {
          "base_uri": "https://localhost:8080/",
          "height": 35
        },
        "outputId": "84e03588-fc37-4b49-a427-68d6d2486683"
      },
      "outputs": [
        {
          "output_type": "execute_result",
          "data": {
            "text/plain": [
              "'value2'"
            ],
            "application/vnd.google.colaboratory.intrinsic+json": {
              "type": "string"
            }
          },
          "metadata": {},
          "execution_count": 44
        }
      ],
      "source": [
        "# Chamando valores pela chave\n",
        "my_dict['key2']"
      ]
    },
    {
      "cell_type": "markdown",
      "metadata": {
        "id": "wpe7Ie3EMenV"
      },
      "source": [
        "É importante notar que os dicionários são muito flexíveis com relação aos tipos de dados\n",
        "que eles podem conter. Por exemplo:"
      ]
    },
    {
      "cell_type": "code",
      "execution_count": 45,
      "metadata": {
        "id": "hJU3TM76MenV"
      },
      "outputs": [],
      "source": [
        "my_dict = {'key1':123,'key2':[12,23,33],'key3':['item0','item1','item2']}"
      ]
    },
    {
      "cell_type": "code",
      "execution_count": 46,
      "metadata": {
        "id": "z11UhKI4MenV",
        "colab": {
          "base_uri": "https://localhost:8080/"
        },
        "outputId": "8114f08e-bf1e-448f-aa39-daca98b5198f"
      },
      "outputs": [
        {
          "output_type": "execute_result",
          "data": {
            "text/plain": [
              "['item0', 'item1', 'item2']"
            ]
          },
          "metadata": {},
          "execution_count": 46
        }
      ],
      "source": [
        "# Vamos chamar itens do dicionário\n",
        "my_dict['key3']"
      ]
    },
    {
      "cell_type": "code",
      "execution_count": 47,
      "metadata": {
        "id": "XyP9gBz6MenV",
        "colab": {
          "base_uri": "https://localhost:8080/",
          "height": 35
        },
        "outputId": "89f80c4b-73a7-47bd-e441-efc165ad655c"
      },
      "outputs": [
        {
          "output_type": "execute_result",
          "data": {
            "text/plain": [
              "'item0'"
            ],
            "application/vnd.google.colaboratory.intrinsic+json": {
              "type": "string"
            }
          },
          "metadata": {},
          "execution_count": 47
        }
      ],
      "source": [
        "# Podemos chamar itens de uma lista presente na posição referente à chave 'key\n",
        "my_dict['key3'][0]"
      ]
    },
    {
      "cell_type": "code",
      "execution_count": 48,
      "metadata": {
        "id": "F93eS7QrMenW",
        "colab": {
          "base_uri": "https://localhost:8080/",
          "height": 35
        },
        "outputId": "d22863c9-2858-41c0-b74d-eb45e143ebdb"
      },
      "outputs": [
        {
          "output_type": "execute_result",
          "data": {
            "text/plain": [
              "'ITEM0'"
            ],
            "application/vnd.google.colaboratory.intrinsic+json": {
              "type": "string"
            }
          },
          "metadata": {},
          "execution_count": 48
        }
      ],
      "source": [
        "# Podemos chamar métodos nos itens também\n",
        "#Pode-se visualizar que os comandos são aplicados a partir do retorno do elemento anterior\n",
        "#Como no exemplo --> Dicionário (my_dict['key3']) -> Lista ([0]) -> String (upper())\n",
        "my_dict['key3'][0].upper()"
      ]
    },
    {
      "cell_type": "markdown",
      "metadata": {
        "id": "vkSRk7hKMenW"
      },
      "source": [
        "Podemos também alterar valores através da chave."
      ]
    },
    {
      "cell_type": "code",
      "execution_count": 49,
      "metadata": {
        "id": "AyLFzMLsMenW",
        "colab": {
          "base_uri": "https://localhost:8080/"
        },
        "outputId": "e8ab9257-87cd-411c-e3f0-389fa64ae7ff"
      },
      "outputs": [
        {
          "output_type": "execute_result",
          "data": {
            "text/plain": [
              "123"
            ]
          },
          "metadata": {},
          "execution_count": 49
        }
      ],
      "source": [
        "my_dict['key1']"
      ]
    },
    {
      "cell_type": "code",
      "execution_count": 50,
      "metadata": {
        "id": "2LlFvPHjMenW"
      },
      "outputs": [],
      "source": [
        "my_dict['key1'] = my_dict['key1'] - 123"
      ]
    },
    {
      "cell_type": "code",
      "execution_count": 51,
      "metadata": {
        "id": "oSGxxCj7MenW",
        "colab": {
          "base_uri": "https://localhost:8080/"
        },
        "outputId": "52efca42-4204-42ba-c38b-71e910a91c3f"
      },
      "outputs": [
        {
          "output_type": "execute_result",
          "data": {
            "text/plain": [
              "0"
            ]
          },
          "metadata": {},
          "execution_count": 51
        }
      ],
      "source": [
        "my_dict['key1']"
      ]
    },
    {
      "cell_type": "markdown",
      "metadata": {
        "id": "4RA7ofuTMenX"
      },
      "source": [
        "Uma nota rápida: o Python possui um método interno de fazer uma subtração ou adição\n",
        "automática (ou multiplicação ou divisão). Poderíamos ter usado += ou -= para a atribuição.\n",
        "Por exemplo:"
      ]
    },
    {
      "cell_type": "code",
      "execution_count": 52,
      "metadata": {
        "id": "wLWdGhOAMenX",
        "colab": {
          "base_uri": "https://localhost:8080/"
        },
        "outputId": "918f5449-305b-41ff-faf8-15c70137c73d"
      },
      "outputs": [
        {
          "output_type": "execute_result",
          "data": {
            "text/plain": [
              "-123"
            ]
          },
          "metadata": {},
          "execution_count": 52
        }
      ],
      "source": [
        "# Define o objeto como sendo ele mesmo menos 123\n",
        "my_dict['key1'] -= 123\n",
        "my_dict['key1']"
      ]
    },
    {
      "cell_type": "markdown",
      "metadata": {
        "id": "8SJabCUkMenX"
      },
      "source": [
        "Também podemos criar chaves por atribuição. Por exemplo, se começássemos com um\n",
        "dicionário vazio, poderíamos adicionar-lhe continuamente:"
      ]
    },
    {
      "cell_type": "code",
      "execution_count": 53,
      "metadata": {
        "id": "eCcTZwU_MenX"
      },
      "outputs": [],
      "source": [
        "# Cria um novo dicionário\n",
        "d = {}"
      ]
    },
    {
      "cell_type": "code",
      "execution_count": 54,
      "metadata": {
        "id": "JdkFc_LhMenX"
      },
      "outputs": [],
      "source": [
        "# Cria uma chave por associoação\n",
        "d['animal'] = 'Dog'"
      ]
    },
    {
      "cell_type": "code",
      "execution_count": 55,
      "metadata": {
        "id": "a3KmhE_mMenX"
      },
      "outputs": [],
      "source": [
        "# Pode fazer isso com qualquer objeto\n",
        "d['answer'] = 42"
      ]
    },
    {
      "cell_type": "code",
      "execution_count": 57,
      "metadata": {
        "id": "0o1VKtUzMenX",
        "colab": {
          "base_uri": "https://localhost:8080/"
        },
        "outputId": "3688d437-251f-4bb7-e52a-0a242b7a51bf"
      },
      "outputs": [
        {
          "output_type": "stream",
          "name": "stdout",
          "text": [
            "{'animal': 'Dog', 'answer': 42}\n",
            "Dog\n"
          ]
        }
      ],
      "source": [
        "print(d)\n",
        "print(d['animal'])"
      ]
    },
    {
      "cell_type": "markdown",
      "metadata": {
        "id": "hhU8HeheMenY"
      },
      "source": [
        "### Aninhamento de Dicionários\n",
        "\n",
        "Espero que você esteja começando a ver o quão poderoso Python é com sua flexibilidade de\n",
        "objetos de nidificação e métodos dos mesmos. Vamos ver um dicionário aninhado dentro de\n",
        "um dicionário:"
      ]
    },
    {
      "cell_type": "code",
      "execution_count": 58,
      "metadata": {
        "id": "Y7on-dboMenY"
      },
      "outputs": [],
      "source": [
        "d = {'key1':{'nestkey':{'subnestkey':'value'}}}"
      ]
    },
    {
      "cell_type": "code",
      "execution_count": 59,
      "metadata": {
        "id": "t-tr30YeMenY",
        "colab": {
          "base_uri": "https://localhost:8080/",
          "height": 35
        },
        "outputId": "4f3eb1a8-f687-4fe9-bc67-fece691df115"
      },
      "outputs": [
        {
          "output_type": "execute_result",
          "data": {
            "text/plain": [
              "'value'"
            ],
            "application/vnd.google.colaboratory.intrinsic+json": {
              "type": "string"
            }
          },
          "metadata": {},
          "execution_count": 59
        }
      ],
      "source": [
        "# Continue chamando as chaves...\n",
        "d['key1']['nestkey']['subnestkey']"
      ]
    },
    {
      "cell_type": "markdown",
      "metadata": {
        "id": "d319oQ_CMenY"
      },
      "source": [
        "### Alguns métodos de dicionários\n",
        "\n",
        "Existem alguns métodos que podemos chamar em um dicionário. Vamos começar uma breve\n",
        "introdução a alguns deles:"
      ]
    },
    {
      "cell_type": "code",
      "execution_count": 60,
      "metadata": {
        "id": "4n_NMKf3MenY"
      },
      "outputs": [],
      "source": [
        "# Cria um dicionário típico\n",
        "d = {'key1':1,'key2':2,'key3':3}"
      ]
    },
    {
      "cell_type": "code",
      "execution_count": 67,
      "metadata": {
        "id": "NIfajcmhMenY",
        "colab": {
          "base_uri": "https://localhost:8080/"
        },
        "outputId": "d50c55d4-0277-4da8-f001-06c146644617"
      },
      "outputs": [
        {
          "output_type": "stream",
          "name": "stdout",
          "text": [
            "dict_keys(['key1', 'key2', 'key3'])\n",
            "<class 'dict_keys'>\n"
          ]
        }
      ],
      "source": [
        "# Retorna uma lista de todas as chaves\n",
        "print(d.keys())\n",
        "print(type(d.keys()))"
      ]
    },
    {
      "cell_type": "code",
      "execution_count": 68,
      "metadata": {
        "id": "younjgBSMenZ",
        "colab": {
          "base_uri": "https://localhost:8080/"
        },
        "outputId": "5409cd32-cdad-4c79-859b-c147003cbd92"
      },
      "outputs": [
        {
          "output_type": "stream",
          "name": "stdout",
          "text": [
            "dict_values([1, 2, 3])\n",
            "<class 'dict_values'>\n"
          ]
        }
      ],
      "source": [
        "# Pega todos os valores\n",
        "print(d.values())\n",
        "print(type(d.values()))"
      ]
    },
    {
      "cell_type": "code",
      "execution_count": 69,
      "metadata": {
        "id": "snPengQUMenZ",
        "colab": {
          "base_uri": "https://localhost:8080/"
        },
        "outputId": "32cb31fa-5f23-4005-b952-31d8c181460b"
      },
      "outputs": [
        {
          "output_type": "stream",
          "name": "stdout",
          "text": [
            "dict_items([('key1', 1), ('key2', 2), ('key3', 3)])\n",
            "<class 'dict_items'>\n"
          ]
        }
      ],
      "source": [
        "# Método para retornar as tuplas de todos os itens (aprenderemos sobre as tup\n",
        "print(d.items())\n",
        "print(type(d.items()))"
      ]
    },
    {
      "cell_type": "code",
      "source": [
        "#removendo um elemento do dicionário\n",
        "\n",
        "my_dict['nova_chave'] = 'teste'\n",
        "print(my_dict)\n",
        "my_dict.pop('nova_chave')\n",
        "print(my_dict)"
      ],
      "metadata": {
        "colab": {
          "base_uri": "https://localhost:8080/"
        },
        "id": "XsiSpaCGVLmE",
        "outputId": "6ce76832-ecdf-44c5-a01a-542f85cf6ca1"
      },
      "execution_count": 70,
      "outputs": [
        {
          "output_type": "stream",
          "name": "stdout",
          "text": [
            "{'key1': -123, 'key2': [12, 23, 33], 'key3': ['item0', 'item1', 'item2'], 'nova_chave': 'teste'}\n",
            "{'key1': -123, 'key2': [12, 23, 33], 'key3': ['item0', 'item1', 'item2']}\n"
          ]
        }
      ]
    },
    {
      "cell_type": "code",
      "source": [
        "#transferindo um elemento de um dicionário para outro dicionário\n",
        "alunos = {1:'Joao', 2: 'Jose', 3: 'Joaquina', 4: 'Joana'}\n",
        "print(\"Lista de alunos\")\n",
        "print(alunos)\n",
        "\n",
        "#cria dicionário vazio de alunos faltantes\n",
        "alunos_faltantes={}\n",
        "\n",
        "#Pergunta para o usuário --> Escolha a matrícula do aluno que faltou\n",
        "matricula_aluno_faltante = 1\n",
        "\n",
        "#atribui alumo que faltou para o dicionário de alunos faltantes\n",
        "alunos_faltantes[matricula_aluno_faltante] = alunos[matricula_aluno_faltante]\n",
        "print(\"alunos faltantes\")\n",
        "print(alunos_faltantes)\n",
        "\n",
        "#remove o aluno faltante do dicionário de alunos presentes\n",
        "alunos.pop(matricula_aluno_faltante)\n",
        "print(\"alunos presentes\")\n",
        "print(alunos)"
      ],
      "metadata": {
        "colab": {
          "base_uri": "https://localhost:8080/"
        },
        "id": "ykrWbgXmV4uy",
        "outputId": "fb1125f9-8827-4145-a402-807aeecc18d5"
      },
      "execution_count": 74,
      "outputs": [
        {
          "output_type": "stream",
          "name": "stdout",
          "text": [
            "Lista de alunos\n",
            "{1: 'Joao', 2: 'Jose', 3: 'Joaquina', 4: 'Joana'}\n",
            "alunos faltantes\n",
            "{1: 'Joao'}\n",
            "alunos presentes\n",
            "{2: 'Jose', 3: 'Joaquina', 4: 'Joana'}\n"
          ]
        }
      ]
    },
    {
      "cell_type": "markdown",
      "metadata": {
        "id": "-frlXwexMenZ"
      },
      "source": [
        "Espero que você tenha agora um bom entendimento básico para a construção de\n",
        "dicionários. Há muito mais para explorar aqui, mas vamos revisar os dicionários mais tarde.\n",
        "Depois desta seção, tudo o que você precisa saber é como criar um dicionário e como\n",
        "recuperar seus valores."
      ]
    },
    {
      "cell_type": "markdown",
      "metadata": {
        "id": "RA96gworMenZ"
      },
      "source": [
        "## Tuplas\n",
        "\n",
        "Em Python, as tuplas são muito semelhantes às listas, no entanto, ao contrário das listas, elas são imutáveis, o que significa que elas não podem ser alteradas. Você usaria tuplas para\n",
        "apresentar coisas que não deveriam ser alteradas, como dias da semana ou datas em um calendário.\n",
        "\n",
        "Nesta seção, obteremos uma breve visão geral do seguinte:\n",
        "1.) Construindo Tuplas \n",
        "2.) Métodos básicos das Tuplas \n",
        "3.) Imutabilidade \n",
        "4.) Quando usar Tuplas\n",
        "\n",
        "Você terá uma intuição de como usar tuplas com base no que você aprendeu sobre as listas.\n",
        "Nós podemos tratá-los de forma muito semelhante, com a maior distinção é que as tuplas são imutáveis.\n",
        "\n",
        "### Construindo Tuplas\n",
        "\n",
        "A construção de tuplas usa () com elementos separados por vírgulas. Por exemplo:"
      ]
    },
    {
      "cell_type": "code",
      "execution_count": 75,
      "metadata": {
        "id": "Dc3M9BQBMenZ"
      },
      "outputs": [],
      "source": [
        "# Pode-se criar uma tupla com múltiplos elementos\n",
        "t = (1,2,3)"
      ]
    },
    {
      "cell_type": "code",
      "execution_count": 79,
      "metadata": {
        "id": "0Y-7DXoIMenZ",
        "colab": {
          "base_uri": "https://localhost:8080/"
        },
        "outputId": "d041d0fd-7769-4a34-b414-4724b37e92e3"
      },
      "outputs": [
        {
          "output_type": "execute_result",
          "data": {
            "text/plain": [
              "2"
            ]
          },
          "metadata": {},
          "execution_count": 79
        }
      ],
      "source": [
        "# O método len() funciona também para tuplas\n",
        "len(t)"
      ]
    },
    {
      "cell_type": "code",
      "execution_count": 80,
      "metadata": {
        "id": "6BNSX8t4MenZ",
        "colab": {
          "base_uri": "https://localhost:8080/"
        },
        "outputId": "d92fb411-c190-48ec-d35f-1fab82559628"
      },
      "outputs": [
        {
          "output_type": "execute_result",
          "data": {
            "text/plain": [
              "('one', 2)"
            ]
          },
          "metadata": {},
          "execution_count": 80
        }
      ],
      "source": [
        "# Você também pode variar os tipos de dados\n",
        "t = ('one',2)\n",
        "# Mostra\n",
        "t"
      ]
    },
    {
      "cell_type": "code",
      "execution_count": 81,
      "metadata": {
        "id": "o_rQKKBNMena",
        "colab": {
          "base_uri": "https://localhost:8080/",
          "height": 35
        },
        "outputId": "35db45af-a386-4b0d-f428-c04f43e8a169"
      },
      "outputs": [
        {
          "output_type": "execute_result",
          "data": {
            "text/plain": [
              "'one'"
            ],
            "application/vnd.google.colaboratory.intrinsic+json": {
              "type": "string"
            }
          },
          "metadata": {},
          "execution_count": 81
        }
      ],
      "source": [
        "# E a indexação funciona exatamente como nas listas\n",
        "t[0]"
      ]
    },
    {
      "cell_type": "code",
      "execution_count": 82,
      "metadata": {
        "id": "WhaZzDPmMena",
        "colab": {
          "base_uri": "https://localhost:8080/"
        },
        "outputId": "9cfbe72a-d5fb-4e25-e5e8-1de23a43d91a"
      },
      "outputs": [
        {
          "output_type": "execute_result",
          "data": {
            "text/plain": [
              "2"
            ]
          },
          "metadata": {},
          "execution_count": 82
        }
      ],
      "source": [
        "# Corte de dados também...\n",
        "t[-1]"
      ]
    },
    {
      "cell_type": "markdown",
      "metadata": {
        "id": "YlKruDkmMena"
      },
      "source": [
        "### Métodos básicos da Tupla\n",
        "\n",
        "As tuplas têm métodos internos, mas não tantas quanto listas. Vamos ver dois deles:"
      ]
    },
    {
      "cell_type": "code",
      "execution_count": 83,
      "metadata": {
        "id": "6KLkWFSbMena",
        "colab": {
          "base_uri": "https://localhost:8080/"
        },
        "outputId": "c6c72336-020d-4491-d1ca-05de5129961c"
      },
      "outputs": [
        {
          "output_type": "execute_result",
          "data": {
            "text/plain": [
              "0"
            ]
          },
          "metadata": {},
          "execution_count": 83
        }
      ],
      "source": [
        "# Use .index com o valor de parâmetro para retornar o índice do mesmo\n",
        "t.index('one')"
      ]
    },
    {
      "cell_type": "code",
      "execution_count": 84,
      "metadata": {
        "id": "W2LcCh-2Mena",
        "colab": {
          "base_uri": "https://localhost:8080/"
        },
        "outputId": "7a7bc926-959b-4e79-f29d-c57f5c53b607"
      },
      "outputs": [
        {
          "output_type": "execute_result",
          "data": {
            "text/plain": [
              "1"
            ]
          },
          "metadata": {},
          "execution_count": 84
        }
      ],
      "source": [
        "# Use .count() para saber quantas vezes determinado elemento apareceu na tupla\n",
        "t.count('one')"
      ]
    },
    {
      "cell_type": "markdown",
      "metadata": {
        "id": "0AalidORMena"
      },
      "source": [
        "### Tuplas - Imutabilidade\n",
        "\n",
        "Como mencionado anteriormente, tuplas são imutáveis:"
      ]
    },
    {
      "cell_type": "code",
      "execution_count": 85,
      "metadata": {
        "id": "BsLTVPl3Mena",
        "colab": {
          "base_uri": "https://localhost:8080/",
          "height": 165
        },
        "outputId": "667b6402-8645-42b9-fc97-e80350353e0f"
      },
      "outputs": [
        {
          "output_type": "error",
          "ename": "TypeError",
          "evalue": "ignored",
          "traceback": [
            "\u001b[0;31m---------------------------------------------------------------------------\u001b[0m",
            "\u001b[0;31mTypeError\u001b[0m                                 Traceback (most recent call last)",
            "\u001b[0;32m<ipython-input-85-1257c0aa9edd>\u001b[0m in \u001b[0;36m<cell line: 1>\u001b[0;34m()\u001b[0m\n\u001b[0;32m----> 1\u001b[0;31m \u001b[0mt\u001b[0m\u001b[0;34m[\u001b[0m\u001b[0;36m0\u001b[0m\u001b[0;34m]\u001b[0m\u001b[0;34m=\u001b[0m \u001b[0;34m'change'\u001b[0m\u001b[0;34m\u001b[0m\u001b[0;34m\u001b[0m\u001b[0m\n\u001b[0m",
            "\u001b[0;31mTypeError\u001b[0m: 'tuple' object does not support item assignment"
          ]
        }
      ],
      "source": [
        "t[0]= 'change'"
      ]
    },
    {
      "cell_type": "code",
      "execution_count": 86,
      "metadata": {
        "id": "_gVq648DMena",
        "colab": {
          "base_uri": "https://localhost:8080/",
          "height": 165
        },
        "outputId": "57116335-6948-4426-db29-7910f550d2ef"
      },
      "outputs": [
        {
          "output_type": "error",
          "ename": "AttributeError",
          "evalue": "ignored",
          "traceback": [
            "\u001b[0;31m---------------------------------------------------------------------------\u001b[0m",
            "\u001b[0;31mAttributeError\u001b[0m                            Traceback (most recent call last)",
            "\u001b[0;32m<ipython-input-86-b75f5b09ac19>\u001b[0m in \u001b[0;36m<cell line: 1>\u001b[0;34m()\u001b[0m\n\u001b[0;32m----> 1\u001b[0;31m \u001b[0mt\u001b[0m\u001b[0;34m.\u001b[0m\u001b[0mappend\u001b[0m\u001b[0;34m(\u001b[0m\u001b[0;34m'nope'\u001b[0m\u001b[0;34m)\u001b[0m\u001b[0;34m\u001b[0m\u001b[0;34m\u001b[0m\u001b[0m\n\u001b[0m",
            "\u001b[0;31mAttributeError\u001b[0m: 'tuple' object has no attribute 'append'"
          ]
        }
      ],
      "source": [
        "t.append('nope')"
      ]
    },
    {
      "cell_type": "markdown",
      "metadata": {
        "id": "pT-_i0WRMenb"
      },
      "source": [
        "### Quando usar tuplas ?\n",
        "\n",
        "Você pode estar se perguntando: \"Por que se preocupar em usar tuplas quando eles têm menos métodos disponíveis?\" Para ser honesto, as tuplas não são usadas tantas vezes como listas na programação, mas são usadas quando a imutabilidade é necessária. Se no seu programa você está passando por um objeto e precisa ter certeza de que ele não seja alterado, então a tupla se tornará sua solução. Ele fornece uma fonte conveniente de integridade de dados.\n",
        "\n",
        "Agora você pode criar e usar suas tuplas em sua programação, bem como ter uma compreensão da sua imutabilidade."
      ]
    },
    {
      "cell_type": "markdown",
      "metadata": {
        "id": "N9SaM95kMenb"
      },
      "source": [
        "## Inputs - Entrada de Dados\n",
        "\n",
        "\n",
        "O python possui uma função de captura para as entradas do usuário: a função input(). Quando essa função é chamada, o programa espera o usuário digitar alguma coisa. Quando o usuário aperta a tecla ENTER, o programa processa e imprime na tela o valor digitado em forma de String.\n",
        "\n",
        "Deste modo as entradas de dados serão sempre no formato String, como no exemplo abaixo a variavel salario e a variavel nome serão do tipo String.\n"
      ]
    },
    {
      "cell_type": "code",
      "execution_count": 87,
      "metadata": {
        "id": "lKqC3OFRMenb",
        "colab": {
          "base_uri": "https://localhost:8080/"
        },
        "outputId": "ccdafeb9-7f1d-41d4-a716-7feee2b1bb8e"
      },
      "outputs": [
        {
          "name": "stdout",
          "output_type": "stream",
          "text": [
            "Entre com o seu salario:500\n"
          ]
        }
      ],
      "source": [
        "salario = input(\"Entre com o seu salario:\")"
      ]
    },
    {
      "cell_type": "code",
      "execution_count": 88,
      "metadata": {
        "id": "eAgjvKSVMenb",
        "colab": {
          "base_uri": "https://localhost:8080/"
        },
        "outputId": "7bd8c553-0e63-427c-f441-479012f895a1"
      },
      "outputs": [
        {
          "name": "stdout",
          "output_type": "stream",
          "text": [
            "Entre com o seu nome:Guilherme\n"
          ]
        }
      ],
      "source": [
        "nome = input(\"Entre com o seu nome:\")"
      ]
    },
    {
      "cell_type": "markdown",
      "metadata": {
        "id": "v-_EEJ_uMenb"
      },
      "source": [
        "Para verificarmos o tipo de dados que foi inserido nas variáveis salario e nome podemos utilizar a função type()."
      ]
    },
    {
      "cell_type": "code",
      "execution_count": 89,
      "metadata": {
        "id": "4b9q4nivMenb",
        "colab": {
          "base_uri": "https://localhost:8080/"
        },
        "outputId": "17952c2b-7153-426c-c34d-f7157e382aa3"
      },
      "outputs": [
        {
          "output_type": "stream",
          "name": "stdout",
          "text": [
            "<class 'str'>\n",
            "<class 'str'>\n"
          ]
        }
      ],
      "source": [
        "print(type(salario))\n",
        "print(type(nome))\n"
      ]
    },
    {
      "cell_type": "markdown",
      "metadata": {
        "id": "3mlVnQEbMenb"
      },
      "source": [
        "### Conversão de tipos\n",
        "\n",
        "A função input() lê o valor digitado pelo usuário como uma string.\n",
        "\n",
        "Se o usuário digitar o número 1400 a variável salario armazenará a string 1400, podemos checar isso com a função type(), como visualizamos anteriormente.\n",
        "\n",
        "Para conseguirmos receber um valor inteiro ou decimal devemos utilizar funções de conversão: int(), float() ou complex() se por acaso utilizarmos números complexos. Podemos também fazer a conversão de númericos para string com a função str()."
      ]
    },
    {
      "cell_type": "code",
      "execution_count": 90,
      "metadata": {
        "id": "oJYDiY4vMenb",
        "colab": {
          "base_uri": "https://localhost:8080/"
        },
        "outputId": "289b84b8-bf93-424f-bc25-ce3c9c67463f"
      },
      "outputs": [
        {
          "output_type": "stream",
          "name": "stdout",
          "text": [
            "Entre com o seu salaro500\n",
            "500.0\n",
            "<class 'float'>\n"
          ]
        }
      ],
      "source": [
        "salario = float(input(\"Entre com o seu salario\"))\n",
        "print(salario)\n",
        "print(type(salario))"
      ]
    },
    {
      "cell_type": "markdown",
      "metadata": {
        "id": "zPi2n5NKMenb"
      },
      "source": [
        "No exemplo acima a função input() receberá um valor String que será convertido para o tipo float pela função float() e armazenado na variavel salario."
      ]
    },
    {
      "cell_type": "markdown",
      "metadata": {
        "id": "r8Dh7cewMenc"
      },
      "source": [
        "## Sets e Boleanos\n",
        "\n",
        "Existem dois outros tipos de objeto em Python que devemos cobrir rapidamente. Conjuntos (Sets) e Boleanos."
      ]
    },
    {
      "cell_type": "markdown",
      "metadata": {
        "id": "0WpyDC--Menc"
      },
      "source": [
        "### Set's\n",
        "\n",
        "Os conjuntos são uma coleção não ordenada de elementos únicos. Podemos construí-los usando a função set(). Avançemos e façamos um conjunto para ver como funciona:\n",
        "\n"
      ]
    },
    {
      "cell_type": "code",
      "execution_count": 91,
      "metadata": {
        "id": "m_xKrQMuMenc",
        "colab": {
          "base_uri": "https://localhost:8080/"
        },
        "outputId": "6a4f4888-ceec-44fa-fb53-d88a4d794427"
      },
      "outputs": [
        {
          "output_type": "stream",
          "name": "stdout",
          "text": [
            "set()\n"
          ]
        }
      ],
      "source": [
        "x = set()\n",
        "print(x)"
      ]
    },
    {
      "cell_type": "code",
      "execution_count": 92,
      "metadata": {
        "id": "zP1l5BmTMenc",
        "colab": {
          "base_uri": "https://localhost:8080/"
        },
        "outputId": "4cbca31d-cf64-4e6e-8f1c-8c4bd7e1ce5a"
      },
      "outputs": [
        {
          "output_type": "stream",
          "name": "stdout",
          "text": [
            "{1}\n"
          ]
        }
      ],
      "source": [
        "#adiciona elementos com o método add()\n",
        "x.add(1)\n",
        "print(x)"
      ]
    },
    {
      "cell_type": "markdown",
      "metadata": {
        "id": "K9Ii6HtNMenc"
      },
      "source": [
        "Observe os colchetes. Isso não indica um dicionário! Embora você possa montar analogias como um set sendo um dicionário com apenas chaves. Sabemos que um conjunto tem apenas entradas únicas. Então, o que acontece quando tentamos adicionar algo que já está em um conjunto?"
      ]
    },
    {
      "cell_type": "code",
      "execution_count": 93,
      "metadata": {
        "id": "mu9-LNmXMenc",
        "colab": {
          "base_uri": "https://localhost:8080/"
        },
        "outputId": "122ba9d2-613a-43d4-c367-19f60212f09c"
      },
      "outputs": [
        {
          "output_type": "stream",
          "name": "stdout",
          "text": [
            "{1, 2}\n"
          ]
        }
      ],
      "source": [
        "# Adiciona um elemento novo\n",
        "x.add(2)\n",
        "print(x)"
      ]
    },
    {
      "cell_type": "code",
      "execution_count": 94,
      "metadata": {
        "id": "C42-xpAwMenc",
        "colab": {
          "base_uri": "https://localhost:8080/"
        },
        "outputId": "b0174bb7-3a9c-4d2a-e6e1-d70809dab7f1"
      },
      "outputs": [
        {
          "output_type": "stream",
          "name": "stdout",
          "text": [
            "{1, 2}\n"
          ]
        }
      ],
      "source": [
        "# Adiciona o mesmo elemento\n",
        "x.add(1)\n",
        "print(x)"
      ]
    },
    {
      "cell_type": "markdown",
      "metadata": {
        "id": "h3kOhYmJMenc"
      },
      "source": [
        "Observe como ele não colocará mais 1 lá. Isso porque um conjunto apenas se ocupa de elementos exclusivos! Podemos transformar uma lista com múltiplos elementos repetidos para um conjunto para obter os elementos exclusivos. Por exemplo:"
      ]
    },
    {
      "cell_type": "code",
      "execution_count": 95,
      "metadata": {
        "id": "jwx9XNUeMend"
      },
      "outputs": [],
      "source": [
        "# Cria uma lista com elementos repetidos\n",
        "l = [1,1,2,2,3,4,5,6,1,1]"
      ]
    },
    {
      "cell_type": "code",
      "execution_count": 96,
      "metadata": {
        "id": "LZUiHTEkMend",
        "colab": {
          "base_uri": "https://localhost:8080/"
        },
        "outputId": "c9636191-88ac-4aad-8e06-42788fa31bd1"
      },
      "outputs": [
        {
          "output_type": "execute_result",
          "data": {
            "text/plain": [
              "{1, 2, 3, 4, 5, 6}"
            ]
          },
          "metadata": {},
          "execution_count": 96
        }
      ],
      "source": [
        "# Transforma em um set com elementos únicos\n",
        "set(l)"
      ]
    },
    {
      "cell_type": "markdown",
      "metadata": {
        "id": "B2EwUk_7Mend"
      },
      "source": [
        "### Boleanos\n",
        "\n",
        "O Python possui também Booleanos (com True e False predefinidas que são basicamente apenas os números inteiros 1 e 0). Ele também possui um objeto reservado chamado None. \n",
        "\n",
        "Passemos por alguns exemplos rápidos de booleanos (vamos mergulhar mais profundamente neles mais tarde neste curso)."
      ]
    },
    {
      "cell_type": "code",
      "execution_count": 97,
      "metadata": {
        "id": "USogu0kmMend",
        "colab": {
          "base_uri": "https://localhost:8080/"
        },
        "outputId": "292f1b14-e62a-49da-abeb-8c623c16142d"
      },
      "outputs": [
        {
          "output_type": "stream",
          "name": "stdout",
          "text": [
            "True\n"
          ]
        }
      ],
      "source": [
        "# Define um objeto como True\n",
        "a = True\n",
        "print(a)"
      ]
    },
    {
      "cell_type": "markdown",
      "metadata": {
        "id": "LT6hQhHmMend"
      },
      "source": [
        "Também podemos usar operadores de comparação para criar booleanos. Examinaremos todos os operadores de comparação mais tarde no curso."
      ]
    },
    {
      "cell_type": "code",
      "execution_count": 98,
      "metadata": {
        "id": "vxnlv1StMend",
        "colab": {
          "base_uri": "https://localhost:8080/"
        },
        "outputId": "aa719f55-3920-4516-91c0-bbea9cdbbee8"
      },
      "outputs": [
        {
          "output_type": "execute_result",
          "data": {
            "text/plain": [
              "False"
            ]
          },
          "metadata": {},
          "execution_count": 98
        }
      ],
      "source": [
        "# O output é boleano\n",
        "1 > 2"
      ]
    },
    {
      "cell_type": "markdown",
      "metadata": {
        "id": "esg7nJlEMend"
      },
      "source": [
        "Nós podemos usar None como um espaço reservado para um objeto que não queremos reatribuir ainda:"
      ]
    },
    {
      "cell_type": "code",
      "execution_count": 99,
      "metadata": {
        "id": "ZzYYP5f8Mend"
      },
      "outputs": [],
      "source": [
        "b = None"
      ]
    },
    {
      "cell_type": "markdown",
      "metadata": {
        "id": "u6srVUHxMend"
      },
      "source": [
        "É isso aí! Agora você deve ter uma compreensão básica de objetos Python e tipos de estrutura de dados. Em seguida, vá em frente e faça o teste de avaliação!"
      ]
    },
    {
      "cell_type": "markdown",
      "metadata": {
        "id": "6yHwTbtUMene"
      },
      "source": [
        "## Operadores de Comparação\n",
        "\n",
        "Nesta aula estaremos aprendendo sobre Operadores de Comparação em Python. Esses operadores nos permitirão comparar variáveis e produzir um valor booleano (Verdadeiro ou\n",
        "Falso).\n",
        "\n",
        "Se você tiver alguma base em Matemática, esses operadores devem ser muito diretos.\n",
        "\n",
        "Em primeiro lugar, apresentaremos uma tabela dos operadores de comparação e depois trabalharemos com alguns exemplos:\n",
        "\n",
        "### Tabela de operações de comparação\n",
        "\n",
        "|Operador  |Descrição   |Exemplo   |\n",
        "|---|---|---|\n",
        "|==   |se os valores de dois operadores forem iguais a condição se torna verdadeira   | (1==2) não é verdade   |\n",
        "|!=   |se os valores de dois operadores não forem iguais a condição torna-se verdadeira   | (1!=2) é verdadeiro  |\n",
        "|>   |se o valor do operando esquerdo for maior que o valor do operando direito, a condição é verdadeira  | 1>2 não é verdadeiro   |\n",
        "|<   |se o valor do operando esquerdo for menor que o valor do operando direito, a condição é verdadeira   | 1<2 é verdadeiro  |\n",
        "|>=   |se o valor do operando esquerdo for maior ou igual que o valor do operando direito, a condição é verdadeira   | 1>=2 não é verdadeiro  |\n",
        "|<=   |se o valor do operando esquerdo for menor ou igual que o valor do operando direito, a condição é verdadeira   | 1<=2 é verdadeiro  |\n",
        "\n",
        "Vamos verificar alguns exemplos:"
      ]
    },
    {
      "cell_type": "code",
      "execution_count": 100,
      "metadata": {
        "id": "e6NS9v8oMene",
        "colab": {
          "base_uri": "https://localhost:8080/"
        },
        "outputId": "e95bc971-1890-44bc-e706-c8c8e0cfb591"
      },
      "outputs": [
        {
          "output_type": "execute_result",
          "data": {
            "text/plain": [
              "True"
            ]
          },
          "metadata": {},
          "execution_count": 100
        }
      ],
      "source": [
        "#igualdade\n",
        "2 == 2"
      ]
    },
    {
      "cell_type": "code",
      "execution_count": 101,
      "metadata": {
        "id": "lH_AVc34Mene",
        "colab": {
          "base_uri": "https://localhost:8080/"
        },
        "outputId": "a7f12a68-66e9-4b32-cdf8-f7e0073f6774"
      },
      "outputs": [
        {
          "output_type": "execute_result",
          "data": {
            "text/plain": [
              "False"
            ]
          },
          "metadata": {},
          "execution_count": 101
        }
      ],
      "source": [
        "#igualdade\n",
        "1 == 0"
      ]
    },
    {
      "cell_type": "code",
      "execution_count": 102,
      "metadata": {
        "id": "ZdJJI5c6Mene",
        "colab": {
          "base_uri": "https://localhost:8080/"
        },
        "outputId": "654b8a39-0ada-4cfa-896b-853f724ed4cd"
      },
      "outputs": [
        {
          "output_type": "execute_result",
          "data": {
            "text/plain": [
              "True"
            ]
          },
          "metadata": {},
          "execution_count": 102
        }
      ],
      "source": [
        "#desigualdade\n",
        "2 != 1"
      ]
    },
    {
      "cell_type": "code",
      "execution_count": 103,
      "metadata": {
        "id": "tcUacbIzMene",
        "colab": {
          "base_uri": "https://localhost:8080/"
        },
        "outputId": "f81ab600-7038-4d6d-d143-1dcc1b1971db"
      },
      "outputs": [
        {
          "output_type": "execute_result",
          "data": {
            "text/plain": [
              "False"
            ]
          },
          "metadata": {},
          "execution_count": 103
        }
      ],
      "source": [
        "#desigualdade\n",
        "2 != 2"
      ]
    },
    {
      "cell_type": "code",
      "execution_count": 104,
      "metadata": {
        "id": "xgujcohcMene",
        "colab": {
          "base_uri": "https://localhost:8080/"
        },
        "outputId": "ebeca884-1995-4399-8eef-544112d245af"
      },
      "outputs": [
        {
          "output_type": "execute_result",
          "data": {
            "text/plain": [
              "True"
            ]
          },
          "metadata": {},
          "execution_count": 104
        }
      ],
      "source": [
        "#maior que\n",
        "2 > 1"
      ]
    },
    {
      "cell_type": "code",
      "execution_count": 105,
      "metadata": {
        "id": "P5XVwadyMene",
        "colab": {
          "base_uri": "https://localhost:8080/"
        },
        "outputId": "398bd534-6cd4-4b6b-998c-a55a65717773"
      },
      "outputs": [
        {
          "output_type": "execute_result",
          "data": {
            "text/plain": [
              "False"
            ]
          },
          "metadata": {},
          "execution_count": 105
        }
      ],
      "source": [
        "#maior que\n",
        "2 > 4"
      ]
    },
    {
      "cell_type": "code",
      "execution_count": 106,
      "metadata": {
        "id": "XhADlDcdMene",
        "colab": {
          "base_uri": "https://localhost:8080/"
        },
        "outputId": "7b686e84-7a64-4560-aa3c-67647ab9f4fd"
      },
      "outputs": [
        {
          "output_type": "execute_result",
          "data": {
            "text/plain": [
              "True"
            ]
          },
          "metadata": {},
          "execution_count": 106
        }
      ],
      "source": [
        "#menor que\n",
        "2 < 4"
      ]
    },
    {
      "cell_type": "code",
      "execution_count": 107,
      "metadata": {
        "id": "rli_OtVYMenf",
        "colab": {
          "base_uri": "https://localhost:8080/"
        },
        "outputId": "4d61a796-5c02-4907-f78d-1487c6c8a8b4"
      },
      "outputs": [
        {
          "output_type": "execute_result",
          "data": {
            "text/plain": [
              "False"
            ]
          },
          "metadata": {},
          "execution_count": 107
        }
      ],
      "source": [
        "#menor que\n",
        "2 < 1"
      ]
    },
    {
      "cell_type": "code",
      "execution_count": 108,
      "metadata": {
        "id": "5NJSDwJeMenf",
        "colab": {
          "base_uri": "https://localhost:8080/"
        },
        "outputId": "fa7e74e2-b894-495e-bff5-5111b84535c6"
      },
      "outputs": [
        {
          "output_type": "execute_result",
          "data": {
            "text/plain": [
              "True"
            ]
          },
          "metadata": {},
          "execution_count": 108
        }
      ],
      "source": [
        "#maior igual que\n",
        "2 >= 2"
      ]
    },
    {
      "cell_type": "code",
      "execution_count": 109,
      "metadata": {
        "id": "iimJqxzEMenf",
        "colab": {
          "base_uri": "https://localhost:8080/"
        },
        "outputId": "599aadd8-ee4d-43ba-9322-7aa230976d12"
      },
      "outputs": [
        {
          "output_type": "execute_result",
          "data": {
            "text/plain": [
              "True"
            ]
          },
          "metadata": {},
          "execution_count": 109
        }
      ],
      "source": [
        "#maior igual que\n",
        "2 >= 1"
      ]
    },
    {
      "cell_type": "code",
      "execution_count": 111,
      "metadata": {
        "id": "0IGiLHbEMenf",
        "colab": {
          "base_uri": "https://localhost:8080/"
        },
        "outputId": "24540818-a427-44f1-850e-1db68f702606"
      },
      "outputs": [
        {
          "output_type": "execute_result",
          "data": {
            "text/plain": [
              "True"
            ]
          },
          "metadata": {},
          "execution_count": 111
        }
      ],
      "source": [
        "#menor igual que\n",
        "2 <= 2"
      ]
    },
    {
      "cell_type": "code",
      "execution_count": 112,
      "metadata": {
        "id": "iA6JhyPcMenf",
        "colab": {
          "base_uri": "https://localhost:8080/"
        },
        "outputId": "c06cce9b-1d11-4d8c-dc21-b064a78933f9"
      },
      "outputs": [
        {
          "output_type": "execute_result",
          "data": {
            "text/plain": [
              "True"
            ]
          },
          "metadata": {},
          "execution_count": 112
        }
      ],
      "source": [
        "#menor igual que\n",
        "2 <= 4"
      ]
    },
    {
      "cell_type": "markdown",
      "metadata": {
        "id": "UAxGbguMMenf"
      },
      "source": [
        "## Operadores de Comparação em cadeia\n",
        "\n",
        "Uma característica interessante do Python é a capacidade de encadear comparações múltiplas para realizar um teste mais complexo. Você pode usar essas comparações em cadeia como uma abreviatura para expressões booleanas maiores. Nesta etapa, aprenderemos como encadear operadores de comparação e também apresentamos duas outras declarações importantes em python: and e or.\n",
        "\n",
        "### Tabela de operações de lógicos\n",
        "\n",
        "|Operador  |Descrição   |Exemplo   |\n",
        "|---|---|---|\n",
        "|not   | não   | not (a = 5)   |\n",
        "|and   | e   | (a <= 10) and (c = 5)  |\n",
        "|or | ou  | (a <= 10) or (c = 5)   |\n",
        "\n",
        "Vamos verificar alguns exemplos:\n",
        "\n",
        "No exemplo abaixo verifica-se se 1 é inferior a 2 e se 2 é inferior a 3. Poderiamos ter escrito utilizando a instrução \"and\" no python."
      ]
    },
    {
      "cell_type": "code",
      "execution_count": 113,
      "metadata": {
        "id": "6uNWberQMenf",
        "colab": {
          "base_uri": "https://localhost:8080/"
        },
        "outputId": "70f1e400-9d98-4f56-e4b6-0eaf245f1f09"
      },
      "outputs": [
        {
          "output_type": "execute_result",
          "data": {
            "text/plain": [
              "True"
            ]
          },
          "metadata": {},
          "execution_count": 113
        }
      ],
      "source": [
        "#exemplo de cadeia de comparação\n",
        "1 < 2 < 3"
      ]
    },
    {
      "cell_type": "code",
      "execution_count": 114,
      "metadata": {
        "id": "46mSIROcMenf",
        "colab": {
          "base_uri": "https://localhost:8080/"
        },
        "outputId": "c4d026fe-0fcf-4d43-e8db-df02278eaf4e"
      },
      "outputs": [
        {
          "output_type": "execute_result",
          "data": {
            "text/plain": [
              "True"
            ]
          },
          "metadata": {},
          "execution_count": 114
        }
      ],
      "source": [
        "#mesmo exemplo utilizando o \"and\"\n",
        "(1<2) and (2<3)"
      ]
    },
    {
      "cell_type": "markdown",
      "metadata": {
        "id": "TxmgOKAeMenf"
      },
      "source": [
        "O and é usado para garantir que as duas verificações tenham que ser verdadeiras para que a verificação total seja verdadeira. Vamos ver outro exemplo:"
      ]
    },
    {
      "cell_type": "code",
      "execution_count": 115,
      "metadata": {
        "id": "PrFW-mrTMeng",
        "colab": {
          "base_uri": "https://localhost:8080/"
        },
        "outputId": "ef08d095-9eb9-4a2e-fa85-d9dfb7cc5ddb"
      },
      "outputs": [
        {
          "output_type": "execute_result",
          "data": {
            "text/plain": [
              "True"
            ]
          },
          "metadata": {},
          "execution_count": 115
        }
      ],
      "source": [
        "1 < 3 > 2"
      ]
    },
    {
      "cell_type": "markdown",
      "metadata": {
        "id": "ugyB7x8RMeng"
      },
      "source": [
        "As verificações acima checam se 3 é maior do que os outros números. Você pode usar \"and\" para reescrevê-lo como:"
      ]
    },
    {
      "cell_type": "code",
      "execution_count": 116,
      "metadata": {
        "id": "o6S-tDpTMeng",
        "colab": {
          "base_uri": "https://localhost:8080/"
        },
        "outputId": "ead31a26-1605-45a7-9f95-dc0aa38c1255"
      },
      "outputs": [
        {
          "output_type": "execute_result",
          "data": {
            "text/plain": [
              "True"
            ]
          },
          "metadata": {},
          "execution_count": 116
        }
      ],
      "source": [
        "1<3 and 3>2"
      ]
    },
    {
      "cell_type": "markdown",
      "metadata": {
        "id": "RAmc3Db5Meng"
      },
      "source": [
        "É importante notar que o Python está verificando ambas as instâncias das comparações. Nós também podemos usar \"or\" para escrever comparações em Python. Por exemplo:"
      ]
    },
    {
      "cell_type": "code",
      "execution_count": 117,
      "metadata": {
        "id": "v_lgJsMEMeng",
        "colab": {
          "base_uri": "https://localhost:8080/"
        },
        "outputId": "13e8dfd0-b2ca-4a45-b9fe-428604bf5a3d"
      },
      "outputs": [
        {
          "output_type": "execute_result",
          "data": {
            "text/plain": [
              "True"
            ]
          },
          "metadata": {},
          "execution_count": 117
        }
      ],
      "source": [
        "1==2 or 2<3"
      ]
    },
    {
      "cell_type": "markdown",
      "metadata": {
        "id": "RcJEun83Meng"
      },
      "source": [
        "Observe como a expressão retornou True porque com o operador ou precisamos apenas um ou os outros dois sejam verdadeiros. Outro exemplo:"
      ]
    },
    {
      "cell_type": "code",
      "execution_count": 118,
      "metadata": {
        "id": "F_G-Z2EpMeng",
        "colab": {
          "base_uri": "https://localhost:8080/"
        },
        "outputId": "40635f4e-e1fa-4212-d157-6bae9794174c"
      },
      "outputs": [
        {
          "output_type": "execute_result",
          "data": {
            "text/plain": [
              "True"
            ]
          },
          "metadata": {},
          "execution_count": 118
        }
      ],
      "source": [
        "1==1 or 100==1"
      ]
    },
    {
      "cell_type": "markdown",
      "metadata": {
        "id": "hYFamincMeng"
      },
      "source": [
        "## If, elif e else\n",
        "\n",
        "If em Python nos permite contar ao computador para executar ações alternativas com base em um determinado conjunto de resultados. Verbalmente, podemos imaginar que estamos informando o computador:\n",
        "\n",
        "\"Ei, se isso caso acontecer, execute alguma ação\" Podemos então expandir a idéia com declarações elif e else, o que nos permite contar ao computador:\n",
        "\n",
        "\"Ei, se esse caso acontecer, execute alguma ação. Caso contrário, se aquilo dali acontecer, execute alguma outra ação. Caso contrário, nenhum dos casos acima aconteceu, execute esta ação\" \n",
        "\n",
        "Avançemos e vejamos o formato de sintaxe para as instruções if para ter uma idéia melhor disso:\n",
        "\n",
        "if case1: executar ação1 elif case2: execute ação2 else: execute a ação 3\n",
        "\n",
        "### Primeiro exemplo\n",
        "\n",
        "Vamos ver um exemplo rápido disso:"
      ]
    },
    {
      "cell_type": "code",
      "execution_count": 119,
      "metadata": {
        "id": "rkPs2nOHMenh",
        "colab": {
          "base_uri": "https://localhost:8080/"
        },
        "outputId": "38f02072-e6a3-49e0-9e2e-9d5f08410a11"
      },
      "outputs": [
        {
          "output_type": "stream",
          "name": "stdout",
          "text": [
            "It was true!\n"
          ]
        }
      ],
      "source": [
        "if True:\n",
        "    print('It was true!')"
      ]
    },
    {
      "cell_type": "markdown",
      "metadata": {
        "id": "zo3z-5DOMenh"
      },
      "source": [
        "Vamos adicionar outra lógica!"
      ]
    },
    {
      "cell_type": "code",
      "execution_count": 120,
      "metadata": {
        "id": "kSlhTzKqMenh",
        "colab": {
          "base_uri": "https://localhost:8080/"
        },
        "outputId": "63c5807e-bd7a-4b69-ee7a-7dae8cd3eaf5"
      },
      "outputs": [
        {
          "output_type": "stream",
          "name": "stdout",
          "text": [
            "I will be printed in any case where x is not true\n"
          ]
        }
      ],
      "source": [
        "x = False\n",
        "if x:\n",
        "    print('x was True!')\n",
        "else:\n",
        "    print('I will be printed in any case where x is not true')"
      ]
    },
    {
      "cell_type": "markdown",
      "metadata": {
        "id": "15WxuBxJMenh"
      },
      "source": [
        "### Múltiplos ramos\n",
        "\n",
        "Vamos ver de forma mais completa de quão longe if, elif, e else podem nos levar! Nós escrevemos isso em uma estrutura aninhada. Tome nota de como o if, elif e else se alinham no código. Isso pode ajudá-lo a ver o que se relaciona com o elif ou outras afirmações. Vamos reintroduzir uma sintaxe de comparação para o Python."
      ]
    },
    {
      "cell_type": "code",
      "execution_count": 121,
      "metadata": {
        "id": "UAQZOCyeMenh",
        "colab": {
          "base_uri": "https://localhost:8080/"
        },
        "outputId": "ffd29bb7-f7e8-4a83-da33-c2415736475b"
      },
      "outputs": [
        {
          "output_type": "stream",
          "name": "stdout",
          "text": [
            "Welcome to the bank!\n"
          ]
        }
      ],
      "source": [
        "loc = 'Bank'\n",
        "if loc == 'Auto Shop':\n",
        "    print('Welcome to the Auto Shop!')\n",
        "elif loc == 'Bank':\n",
        "    print('Welcome to the bank!')\n",
        "else:\n",
        "    print(\"Where are you?\")"
      ]
    },
    {
      "cell_type": "markdown",
      "metadata": {
        "id": "wmMJJF1tMenh"
      },
      "source": [
        "Observe como as declarações if aninhadas são verificadas até que um booleano True faça com que o código aninhado abaixo seja executado. Você também deve notar que você pode colocar as declarações elif quanto desejar antes de fechar com outra. Vamos criar dois exemplos mais simples para as afirmações if, elif e else:"
      ]
    },
    {
      "cell_type": "code",
      "execution_count": 122,
      "metadata": {
        "id": "WzYcjJRhMenh",
        "colab": {
          "base_uri": "https://localhost:8080/"
        },
        "outputId": "ef4955f0-074a-4f42-da92-62e4c5a8bf06"
      },
      "outputs": [
        {
          "output_type": "stream",
          "name": "stdout",
          "text": [
            "Welcome Sammy!\n"
          ]
        }
      ],
      "source": [
        "person = 'Sammy'\n",
        "if person == 'Sammy':\n",
        "    print('Welcome Sammy!')\n",
        "else:\n",
        "    print(\"Welcome, what's your name?\")"
      ]
    },
    {
      "cell_type": "code",
      "execution_count": 123,
      "metadata": {
        "id": "qlpqvwyVMenh",
        "colab": {
          "base_uri": "https://localhost:8080/"
        },
        "outputId": "6de66031-32e2-4ba4-8766-e4e6b2f6c0ca"
      },
      "outputs": [
        {
          "output_type": "stream",
          "name": "stdout",
          "text": [
            "Welcome George!\n"
          ]
        }
      ],
      "source": [
        "person = 'George'\n",
        "if person == 'Sammy':\n",
        "    print('Welcome Sammy!')\n",
        "elif person =='George':\n",
        "    print(\"Welcome George!\")\n",
        "else:\n",
        "    print(\"Welcome, what's your name?\")"
      ]
    },
    {
      "cell_type": "markdown",
      "metadata": {
        "id": "zNtXl8c2Meni"
      },
      "source": [
        "### Indentação - Novamente!!\n",
        "\n",
        "É importante manter uma boa compreensão de como o recuo funciona no Python para manter a estrutura e a ordem do seu código. Vamos voltar a tocar neste tópico quando começarmos a criar funções!"
      ]
    },
    {
      "cell_type": "markdown",
      "metadata": {
        "id": "K32FP24qMeni"
      },
      "source": [
        "## Função Range()\n",
        "\n",
        "Nesta aula curta estaremos discutindo a função range(). Ainda não desenvolvemos um nível muito profundo de conhecimento de funções, mas podemos entender o básico desta função simples (mas extremamente útil!). \n",
        "\n",
        "A função range() nos permite criar uma lista de números que variam de um ponto de partida até um ponto final. Também podemos especificar o tamanho do passo. Vamos percorrer alguns exemplos:"
      ]
    },
    {
      "cell_type": "code",
      "execution_count": 125,
      "metadata": {
        "id": "MNcwArWtMeni",
        "colab": {
          "base_uri": "https://localhost:8080/"
        },
        "outputId": "fb07bfb6-7278-4aaa-9bf7-34b257b58b43"
      },
      "outputs": [
        {
          "output_type": "execute_result",
          "data": {
            "text/plain": [
              "range(0, 10)"
            ]
          },
          "metadata": {},
          "execution_count": 125
        }
      ],
      "source": [
        "range(0,10)"
      ]
    },
    {
      "cell_type": "code",
      "execution_count": 130,
      "metadata": {
        "id": "xRGtWi1hMeni",
        "colab": {
          "base_uri": "https://localhost:8080/"
        },
        "outputId": "8cecf00d-f3c0-4d18-f065-90d6be3eff7b"
      },
      "outputs": [
        {
          "output_type": "stream",
          "name": "stdout",
          "text": [
            "range(0, 10)\n"
          ]
        },
        {
          "output_type": "execute_result",
          "data": {
            "text/plain": [
              "[0, 1, 2, 3, 4, 5, 6, 7, 8, 9]"
            ]
          },
          "metadata": {},
          "execution_count": 130
        }
      ],
      "source": [
        "x =range(0,10)\n",
        "type(x)\n",
        "print(x)\n",
        "list(x)"
      ]
    },
    {
      "cell_type": "code",
      "execution_count": 127,
      "metadata": {
        "id": "oFKQYVhZMeni"
      },
      "outputs": [],
      "source": [
        "inicio_range = 0 #valor padrão de inicio de um range\n",
        "final_range = 20\n",
        "x = range(inicio_range,final_range)"
      ]
    },
    {
      "cell_type": "code",
      "execution_count": 128,
      "metadata": {
        "id": "vFSeykteMeni",
        "colab": {
          "base_uri": "https://localhost:8080/"
        },
        "outputId": "6865910c-d23b-4284-96b1-2b4a38a56e73"
      },
      "outputs": [
        {
          "output_type": "execute_result",
          "data": {
            "text/plain": [
              "[0, 1, 2, 3, 4, 5, 6, 7, 8, 9, 10, 11, 12, 13, 14, 15, 16, 17, 18, 19]"
            ]
          },
          "metadata": {},
          "execution_count": 128
        }
      ],
      "source": [
        "# transformando um range em uma lista para exibição dos valores gerados\n",
        "list(x)"
      ]
    },
    {
      "cell_type": "markdown",
      "metadata": {
        "id": "JYKp5NJ_Menj"
      },
      "source": [
        "Ótimo! Observe como foi até 20, mas na verdade não produz 20. Assim como na indexação.\n",
        "\n",
        "E o tamanho do passo? Podemos especificar isso como um terceiro argumento:"
      ]
    },
    {
      "cell_type": "code",
      "execution_count": 132,
      "metadata": {
        "id": "Q3j2yDS6Menj",
        "colab": {
          "base_uri": "https://localhost:8080/"
        },
        "outputId": "ac23ae42-d21b-4aab-b410-a59d5848e6bc"
      },
      "outputs": [
        {
          "output_type": "execute_result",
          "data": {
            "text/plain": [
              "[0, 2, 4, 6, 8, 10, 12, 14, 16, 18]"
            ]
          },
          "metadata": {},
          "execution_count": 132
        }
      ],
      "source": [
        "#gera um range que inicia no valor de inicio_range e finaliza no valor da variavel final_range contando de 2 em 2\n",
        "x = range(inicio_range,final_range,2)\n",
        "# Mostrar\n",
        "x\n",
        "list(x)"
      ]
    },
    {
      "cell_type": "markdown",
      "metadata": {
        "id": "B2iP_Tg_Menj"
      },
      "source": [
        "Impressionante! Bem, é isso ... ou não?\n",
        "\n",
        "Você pode estar se perguntando, o que acontece se eu quiser usar uma grande variedade de números? O meu computador pode armazenar tudo na memória?\n",
        "\n",
        "Grande pensamento! Este é um dilema que pode ser resolvido com o uso de um gerador. Para uma explicação simplificada: um gerador permite a geração de objetos gerados que são fornecidos naquela instância, mas não armazena cada instância gerada na memória.Isso significa que um gerador não criaria uma lista ao gerar um range(), mas, em vez disso, fornece uma geração única dos números nesse intervalo. A boa notítica é que range() se comporta como um gerador e você não precisa se preocupar com isso."
      ]
    },
    {
      "cell_type": "markdown",
      "metadata": {
        "id": "ihEOY5beMenj"
      },
      "source": [
        "## Laços\n",
        "\n",
        "### For\n",
        "\n",
        "Um loop for atua como um iterador em Python, ele passa por itens que estão em uma sequência ou qualquer outro item iterável. Os objetos que aprendemos até agora que podemos iterar incluem strings, listas, tuplas e até iteráveis embutidos em dicionários, como chaves ou valores.\n",
        "\n",
        "Já vimos for um pouco nas palestras passadas, mas agora permitimos formalizar a nossa\n",
        "compreensão. Aqui está o formato geral para um for loop em Python:\n",
        "\n",
        "for item in objeto: fazer algo\n",
        "\n",
        "O nome da variável usado para o item fica a seu critério, você pode escolher o que quiser. Então use seu melhor julgamento para escolher um nome que faça sentido e que você poderá entender ao revisar seu código. Este nome do item pode então ser referenciado dentro de seu loop, por exemplo, se você quisesse usar instruções if para executar verificações.\n",
        "\n",
        "Vamos seguir em frente e trabalhar com vários exemplos de for loops usando uma variedade de tipos de objetos de dados. Vamos começar com um exemplo simples e adicionar mais complexidade mais além.\n",
        "\n",
        "Exemplo 1\n",
        "Iterando através de uma lista."
      ]
    },
    {
      "cell_type": "code",
      "execution_count": 133,
      "metadata": {
        "id": "5iC5aQR0Menj",
        "colab": {
          "base_uri": "https://localhost:8080/"
        },
        "outputId": "061f295b-425d-4475-886c-deb8d711553c"
      },
      "outputs": [
        {
          "output_type": "stream",
          "name": "stdout",
          "text": [
            "1\n",
            "2\n",
            "3\n",
            "4\n",
            "5\n",
            "6\n",
            "7\n",
            "8\n",
            "9\n",
            "10\n"
          ]
        }
      ],
      "source": [
        "#dado uma lista\n",
        "l = [1,2,3,4,5,6,7,8,9,10]\n",
        "#percorra a lista com um for\n",
        "for num in l:\n",
        "    print(num)"
      ]
    },
    {
      "cell_type": "markdown",
      "metadata": {
        "id": "bDVIxKvSMenj"
      },
      "source": [
        "Agora vamos substituir a lista por um range, lembrando que a função range gera uma faixa de valores."
      ]
    },
    {
      "cell_type": "code",
      "execution_count": 134,
      "metadata": {
        "id": "H-TfcBR4Menj",
        "colab": {
          "base_uri": "https://localhost:8080/"
        },
        "outputId": "3b201275-56da-46e8-bc01-4479badd7cdf"
      },
      "outputs": [
        {
          "output_type": "stream",
          "name": "stdout",
          "text": [
            "1\n",
            "2\n",
            "3\n",
            "4\n",
            "5\n",
            "6\n",
            "7\n",
            "8\n",
            "9\n",
            "10\n"
          ]
        }
      ],
      "source": [
        "#percorra a range com um for, para gerarmos a mesma saída do exemplo anterior temos que nos lembrar que a faixa final do range não está inclusa na contagem.\n",
        "for num in range(1,11):\n",
        "    print(num)"
      ]
    },
    {
      "cell_type": "code",
      "source": [
        "#for com step 2\n",
        "for num in range(1, 11, 2):\n",
        "  print(num)"
      ],
      "metadata": {
        "colab": {
          "base_uri": "https://localhost:8080/"
        },
        "id": "et_2NvNCfZ54",
        "outputId": "905b8546-72b4-41a7-a0ee-449e06524949"
      },
      "execution_count": 135,
      "outputs": [
        {
          "output_type": "stream",
          "name": "stdout",
          "text": [
            "1\n",
            "3\n",
            "5\n",
            "7\n",
            "9\n"
          ]
        }
      ]
    },
    {
      "cell_type": "markdown",
      "metadata": {
        "id": "J-yrG_6aMenj"
      },
      "source": [
        "Agora vamos combinar com a função if para verificar os números pares em uma sequência.\n",
        "\n",
        "Para isso devemos calcular o módulo (resto da divisão), veja o exemplo:"
      ]
    },
    {
      "cell_type": "code",
      "execution_count": 136,
      "metadata": {
        "id": "0JySvB0jMenk",
        "colab": {
          "base_uri": "https://localhost:8080/"
        },
        "outputId": "86580294-4630-4ff3-a12d-dfbf94a4da06"
      },
      "outputs": [
        {
          "output_type": "execute_result",
          "data": {
            "text/plain": [
              "2"
            ]
          },
          "metadata": {},
          "execution_count": 136
        }
      ],
      "source": [
        "17 % 3 #número impar temos resto"
      ]
    },
    {
      "cell_type": "code",
      "execution_count": 137,
      "metadata": {
        "id": "DW2Xq_BsMenk",
        "colab": {
          "base_uri": "https://localhost:8080/"
        },
        "outputId": "66e1ec32-c4d9-4e49-9091-bdf45fae72bb"
      },
      "outputs": [
        {
          "output_type": "execute_result",
          "data": {
            "text/plain": [
              "0"
            ]
          },
          "metadata": {},
          "execution_count": 137
        }
      ],
      "source": [
        "12 % 4 #número par sem resto na divisão"
      ]
    },
    {
      "cell_type": "markdown",
      "metadata": {
        "id": "ChlHNrMPMenk"
      },
      "source": [
        "Observe que se um número é totalmente divisível sem restante, o resultado do módulo é 0. Podemos usar isso para testar números pares, pois se um número nódulo 2 for igual a 0, isso significa que é um número par! Volte para o for!\n",
        "\n",
        "Então vamos imprimir apenas os números pares de uma sequência."
      ]
    },
    {
      "cell_type": "code",
      "execution_count": 138,
      "metadata": {
        "id": "lLLTMKjaMenk",
        "colab": {
          "base_uri": "https://localhost:8080/"
        },
        "outputId": "1bd08677-cf4e-4379-a423-f9bc058b7384"
      },
      "outputs": [
        {
          "output_type": "stream",
          "name": "stdout",
          "text": [
            "2\n",
            "4\n",
            "6\n",
            "8\n",
            "10\n",
            "12\n",
            "14\n",
            "16\n",
            "18\n",
            "20\n"
          ]
        }
      ],
      "source": [
        "#imprimindo os números pares de uma sequencia.\n",
        "for num in range(1,21):\n",
        "    if num%2 == 0:\n",
        "        print(num)"
      ]
    },
    {
      "cell_type": "code",
      "execution_count": 139,
      "metadata": {
        "id": "-KFWm7hKMenk",
        "colab": {
          "base_uri": "https://localhost:8080/"
        },
        "outputId": "48d12b88-94e8-452c-f931-dd2283cb9066"
      },
      "outputs": [
        {
          "output_type": "stream",
          "name": "stdout",
          "text": [
            "Impar : 1\n",
            "Par : 2\n",
            "Impar : 3\n",
            "Par : 4\n",
            "Impar : 5\n",
            "Par : 6\n",
            "Impar : 7\n",
            "Par : 8\n",
            "Impar : 9\n",
            "Par : 10\n",
            "Impar : 11\n",
            "Par : 12\n",
            "Impar : 13\n",
            "Par : 14\n",
            "Impar : 15\n",
            "Par : 16\n",
            "Impar : 17\n",
            "Par : 18\n",
            "Impar : 19\n",
            "Par : 20\n"
          ]
        }
      ],
      "source": [
        "#podemos também utilizar o elif\n",
        "for num in range(1,21):\n",
        "    if num%2 == 0:\n",
        "        print(\"Par : {}\".format(num))\n",
        "    else:\n",
        "        print(\"Impar : {}\".format(num))\n"
      ]
    },
    {
      "cell_type": "markdown",
      "metadata": {
        "id": "1uaYbgpbMenk"
      },
      "source": [
        "Outra idéia comum durante um for é manter algum tipo de contagem durante os vários loops. Por exemplo, vamos criar um loop for que resume a lista:"
      ]
    },
    {
      "cell_type": "code",
      "execution_count": 140,
      "metadata": {
        "id": "70fKB67NMenk",
        "colab": {
          "base_uri": "https://localhost:8080/"
        },
        "outputId": "5494d4f5-386b-47b3-d4af-9d4250272db6"
      },
      "outputs": [
        {
          "output_type": "stream",
          "name": "stdout",
          "text": [
            "soma --> 210\n"
          ]
        }
      ],
      "source": [
        "range_sum = 0\n",
        "for num in range(1,21):\n",
        "    range_sum = range_sum + num\n",
        "print(\"soma --> {}\".format(range_sum))"
      ]
    },
    {
      "cell_type": "code",
      "source": [
        "range_sum = 0\n",
        "for num in range(1,21):\n",
        "    range_sum += num\n",
        "print(\"soma --> {}\".format(range_sum))"
      ],
      "metadata": {
        "colab": {
          "base_uri": "https://localhost:8080/"
        },
        "id": "8IoXwJxZf_mF",
        "outputId": "8e3c91c6-4818-4a28-df4a-087e1a76cb59"
      },
      "execution_count": 141,
      "outputs": [
        {
          "output_type": "stream",
          "name": "stdout",
          "text": [
            "soma --> 210\n"
          ]
        }
      ]
    },
    {
      "cell_type": "markdown",
      "metadata": {
        "id": "8lONta7TMenk"
      },
      "source": [
        "A acumulação dos valores também pode ser realizada utilizando o operador \"+=\""
      ]
    },
    {
      "cell_type": "code",
      "execution_count": 142,
      "metadata": {
        "id": "p_95yrbLMenl",
        "colab": {
          "base_uri": "https://localhost:8080/"
        },
        "outputId": "18abf980-5ae3-4203-af10-f84d83a6eed0"
      },
      "outputs": [
        {
          "output_type": "stream",
          "name": "stdout",
          "text": [
            "soma --> 210\n"
          ]
        }
      ],
      "source": [
        "range_sum = 0\n",
        "for num in range(1,21):\n",
        "    range_sum += num #observe a diferença nesta linha em relação ao ex. anterior\n",
        "print(\"soma --> {}\".format(range_sum))"
      ]
    },
    {
      "cell_type": "markdown",
      "metadata": {
        "id": "RCGoY4S5Menl"
      },
      "source": [
        "Nós usamos para loops com listas, e as strings? Lembre-se de que as strings são uma seqüência, então, quando iteramos através delas, estaremos acessando cada item nessa seqüência de caracteres."
      ]
    },
    {
      "cell_type": "code",
      "execution_count": 143,
      "metadata": {
        "id": "k4c9J4g6Menl",
        "colab": {
          "base_uri": "https://localhost:8080/"
        },
        "outputId": "16909da8-ad91-42a8-c82e-c659d2e15e4a"
      },
      "outputs": [
        {
          "output_type": "stream",
          "name": "stdout",
          "text": [
            "T\n",
            "h\n",
            "i\n",
            "s\n",
            " \n",
            "i\n",
            "s\n",
            " \n",
            "a\n",
            " \n",
            "s\n",
            "t\n",
            "r\n",
            "i\n",
            "n\n",
            "g\n",
            ".\n"
          ]
        }
      ],
      "source": [
        "for letter in 'This is a string.':\n",
        "    print(letter)"
      ]
    },
    {
      "cell_type": "markdown",
      "metadata": {
        "id": "ObvoPcnIMenl"
      },
      "source": [
        "E as tuplas?"
      ]
    },
    {
      "cell_type": "code",
      "execution_count": 144,
      "metadata": {
        "id": "G1U4HZiMMenl",
        "colab": {
          "base_uri": "https://localhost:8080/"
        },
        "outputId": "989a82e9-9705-45e6-845b-62b78a81880c"
      },
      "outputs": [
        {
          "output_type": "stream",
          "name": "stdout",
          "text": [
            "1\n",
            "2\n",
            "3\n",
            "4\n",
            "5\n"
          ]
        }
      ],
      "source": [
        "tup = (1,2,3,4,5)\n",
        "for t in tup:\n",
        "    print(t)"
      ]
    },
    {
      "cell_type": "markdown",
      "metadata": {
        "id": "nyJLUXQEMenl"
      },
      "source": [
        "As Tuplas têm uma qualidade especial quando se trata de fors. Se você está iterando através de uma seqüência que contém tuplas, o item pode realmente ser a própria tupla, este é um exemplo de desembalagem de tuplas . Durante o for, estaremos desembalando a tupla dentro de uma seqüência e podemos acessar os itens individuais dentro dessa tupla!"
      ]
    },
    {
      "cell_type": "code",
      "execution_count": 145,
      "metadata": {
        "id": "C4HCyGXpMenl",
        "colab": {
          "base_uri": "https://localhost:8080/"
        },
        "outputId": "cde4eee7-36a2-462c-be07-1a1ea95ec61c"
      },
      "outputs": [
        {
          "output_type": "stream",
          "name": "stdout",
          "text": [
            "(2, 4)\n",
            "(6, 8)\n",
            "(10, 12)\n"
          ]
        }
      ],
      "source": [
        "l = [(2,4),(6,8),(10,12)]\n",
        "for tup in l:\n",
        "    print(tup)"
      ]
    },
    {
      "cell_type": "code",
      "execution_count": 149,
      "metadata": {
        "id": "SDS0gw7AMenl",
        "colab": {
          "base_uri": "https://localhost:8080/"
        },
        "outputId": "b989dd2f-6257-454f-f0b2-98de36d8f6a0"
      },
      "outputs": [
        {
          "output_type": "stream",
          "name": "stdout",
          "text": [
            "2\n",
            "6\n",
            "10\n"
          ]
        }
      ],
      "source": [
        "for (t1,t2) in l:\n",
        "    print(t1)"
      ]
    },
    {
      "cell_type": "code",
      "source": [
        "#atribuição múltipla\n",
        "tupla = (1,2,3)\n",
        "n1, n2, n3 = tupla\n",
        "print(n1)\n",
        "print(n2)\n",
        "print(n3)"
      ],
      "metadata": {
        "colab": {
          "base_uri": "https://localhost:8080/"
        },
        "id": "nHpPzN5ngmUi",
        "outputId": "9a231cd4-b071-4d3a-d845-4296a387ed85"
      },
      "execution_count": 150,
      "outputs": [
        {
          "output_type": "stream",
          "name": "stdout",
          "text": [
            "1\n",
            "2\n",
            "3\n"
          ]
        }
      ]
    },
    {
      "cell_type": "markdown",
      "metadata": {
        "id": "tSIOaSE7Menl"
      },
      "source": [
        "Legal! Com as tuplas em uma seqüência, podemos acessar os itens dentro deles por meio de desembalagem! A razão pela qual isso é importante é porque muitos objetos entregarão seus iterables através de tuplas. Vamos começar a explorar a iteração através de Dictionaries para explorar isso ainda mais!"
      ]
    },
    {
      "cell_type": "code",
      "execution_count": 153,
      "metadata": {
        "id": "nUooc5wuMenm",
        "colab": {
          "base_uri": "https://localhost:8080/"
        },
        "outputId": "69b8f11c-0bb8-43dd-a9ad-4278df71f001"
      },
      "outputs": [
        {
          "output_type": "stream",
          "name": "stdout",
          "text": [
            "dict_items([('k1', 1), ('k2', 2), ('k3', 3)])\n",
            "k : 1\n",
            "1\n",
            "k : 2\n",
            "2\n",
            "k : 3\n",
            "3\n"
          ]
        }
      ],
      "source": [
        "#dado o dicionario d\n",
        "d = {'k1':1,'k2':2,'k3':3}\n",
        "\n",
        "print(d.items())\n",
        "\n",
        "#percorrendo os itens\n",
        "for chave,item in d:\n",
        "    print(chave+ \" : \" + item)\n",
        "    print(item)"
      ]
    },
    {
      "cell_type": "markdown",
      "metadata": {
        "id": "GCGKmVitMeno"
      },
      "source": [
        "Observe como isso produz apenas chaves. Então, como podemos obter os valores? Ou as chaves e os valores?\n",
        "\n",
        "#### Itens() \n",
        "\n",
        "Você deve usar \".items()\" para iterar através das chaves e valores de um dicionário. Por exemplo:\n"
      ]
    },
    {
      "cell_type": "code",
      "execution_count": 154,
      "metadata": {
        "id": "NR69wWrMMenp",
        "colab": {
          "base_uri": "https://localhost:8080/"
        },
        "outputId": "54a7473d-00bc-45e6-a1d2-d7492a7f1290"
      },
      "outputs": [
        {
          "output_type": "stream",
          "name": "stdout",
          "text": [
            "k1\n",
            "1\n",
            "k2\n",
            "2\n",
            "k3\n",
            "3\n"
          ]
        }
      ],
      "source": [
        "# For Python 3\n",
        "for k,v in d.items():\n",
        "    print(k)\n",
        "    print(v)"
      ]
    },
    {
      "cell_type": "markdown",
      "metadata": {
        "id": "qt7L5tZnMenp"
      },
      "source": [
        "Aprendemos a usar para loops para iterar através de tuplas, listas, strings e dicionários. Será uma ferramenta importante para nós, portanto, certifique-se de conhecê-lo bem e compreende os exemplos acima.\n",
        "\n",
        "## While\n",
        "\n",
        "A instrução while em Python é uma das formas mais gerais de executar iterações. Uma instrução while executará repetidamente uma única declaração ou grupo de instruções, desde que a condição seja verdadeira. A razão pela qual é chamado de \"loop\" é porque as instruções de código são roteadas repetidamente até que a condição não seja mais atendida.\n",
        "\n",
        "O formato geral de um loop while é: \n",
        "\n",
        "while teste: declaração de código \n",
        "\n",
        "else: declarações de código final\n",
        "\n",
        "Olhemos alguns simples do while em ação.\n"
      ]
    },
    {
      "cell_type": "code",
      "execution_count": 155,
      "metadata": {
        "id": "TGKocINCMenp",
        "colab": {
          "base_uri": "https://localhost:8080/"
        },
        "outputId": "10a5e3b4-5733-4893-ab40-e9a15da1a743"
      },
      "outputs": [
        {
          "output_type": "stream",
          "name": "stdout",
          "text": [
            "x is currently:  0\n",
            " x is still less than 10, adding 1 to x\n",
            "x is currently:  1\n",
            " x is still less than 10, adding 1 to x\n",
            "x is currently:  2\n",
            " x is still less than 10, adding 1 to x\n",
            "x is currently:  3\n",
            " x is still less than 10, adding 1 to x\n",
            "x is currently:  4\n",
            " x is still less than 10, adding 1 to x\n",
            "x is currently:  5\n",
            " x is still less than 10, adding 1 to x\n",
            "x is currently:  6\n",
            " x is still less than 10, adding 1 to x\n",
            "x is currently:  7\n",
            " x is still less than 10, adding 1 to x\n",
            "x is currently:  8\n",
            " x is still less than 10, adding 1 to x\n",
            "x is currently:  9\n",
            " x is still less than 10, adding 1 to x\n"
          ]
        }
      ],
      "source": [
        "x = 0\n",
        "while x < 10:\n",
        "    print('x is currently: ', x)\n",
        "    print(' x is still less than 10, adding 1 to x')\n",
        "    x += 1"
      ]
    },
    {
      "cell_type": "markdown",
      "metadata": {
        "id": "G1chWgLiMenp"
      },
      "source": [
        "Observe quantas vezes as declarações de impressão ocorreram e como o while continuou até a condição True deixasse de ser verdadeira, que ocorreu após x == 10. É importante notar que, uma vez que isso ocorreu, o código parou. Vamos ver como podemos adicionar uma outra afirmação:"
      ]
    },
    {
      "cell_type": "code",
      "execution_count": 156,
      "metadata": {
        "id": "Vn09BxvpMenp",
        "colab": {
          "base_uri": "https://localhost:8080/"
        },
        "outputId": "524ffeae-9011-4393-bb64-f83061339015"
      },
      "outputs": [
        {
          "output_type": "stream",
          "name": "stdout",
          "text": [
            "x is currently:  0\n",
            " x is still less than 10, adding 1 to x\n",
            "x is currently:  1\n",
            " x is still less than 10, adding 1 to x\n",
            "x is currently:  2\n",
            " x is still less than 10, adding 1 to x\n",
            "x is currently:  3\n",
            " x is still less than 10, adding 1 to x\n",
            "x is currently:  4\n",
            " x is still less than 10, adding 1 to x\n",
            "x is currently:  5\n",
            " x is still less than 10, adding 1 to x\n",
            "x is currently:  6\n",
            " x is still less than 10, adding 1 to x\n",
            "x is currently:  7\n",
            " x is still less than 10, adding 1 to x\n",
            "x is currently:  8\n",
            " x is still less than 10, adding 1 to x\n",
            "x is currently:  9\n",
            " x is still less than 10, adding 1 to x\n",
            "All Done!\n"
          ]
        }
      ],
      "source": [
        "x = 0\n",
        "while x < 10:\n",
        "    print('x is currently: ',x)\n",
        "    print(' x is still less than 10, adding 1 to x')\n",
        "    x+=1\n",
        "else:\n",
        "    print('All Done!')"
      ]
    },
    {
      "cell_type": "markdown",
      "metadata": {
        "id": "97apuxIFMenp"
      },
      "source": [
        "#### break, continue, pass\n",
        "\n",
        "Podemos usar as declarações break, continue e pass em nossos loops para adicionar funcionalidades adicionais para vários casos. As três declarações são definidas por:\n",
        "\n",
        "break: Para o loop continue: Vai para o próximo loop \n",
        "\n",
        "pass: Não faz nada \n",
        "\n",
        "Pensando nas declarações break e continue, o formato geral do loop while se parece com isto:\n",
        "\n",
        "while test: código \n",
        "\n",
        "if test: break \n",
        "if test: continue else:\n",
        "\n",
        "Vamos ver alguns exemplos!"
      ]
    },
    {
      "cell_type": "code",
      "execution_count": 157,
      "metadata": {
        "id": "ucSQffTNMenp",
        "colab": {
          "base_uri": "https://localhost:8080/"
        },
        "outputId": "38f9d24c-ad76-4243-9e23-efe81d32e81b"
      },
      "outputs": [
        {
          "output_type": "stream",
          "name": "stdout",
          "text": [
            "x is currently:  0\n",
            " x is still less than 10, adding 1 to x\n",
            "continuing...\n",
            "x is currently:  1\n",
            " x is still less than 10, adding 1 to x\n",
            "continuing...\n",
            "x is currently:  2\n",
            " x is still less than 10, adding 1 to x\n",
            "x==3\n",
            "x is currently:  3\n",
            " x is still less than 10, adding 1 to x\n",
            "continuing...\n",
            "x is currently:  4\n",
            " x is still less than 10, adding 1 to x\n",
            "continuing...\n",
            "x is currently:  5\n",
            " x is still less than 10, adding 1 to x\n",
            "continuing...\n",
            "x is currently:  6\n",
            " x is still less than 10, adding 1 to x\n",
            "continuing...\n",
            "x is currently:  7\n",
            " x is still less than 10, adding 1 to x\n",
            "continuing...\n",
            "x is currently:  8\n",
            " x is still less than 10, adding 1 to x\n",
            "continuing...\n",
            "x is currently:  9\n",
            " x is still less than 10, adding 1 to x\n",
            "continuing...\n"
          ]
        }
      ],
      "source": [
        "x = 0\n",
        "while x < 10:\n",
        "    print('x is currently: ', x)\n",
        "    print(' x is still less than 10, adding 1 to x')\n",
        "    x+=1\n",
        "    if x==3:\n",
        "        print('x==3')\n",
        "    else:\n",
        "        print('continuing...')\n",
        "        continue"
      ]
    },
    {
      "cell_type": "markdown",
      "metadata": {
        "id": "K-uZ3-OHMenq"
      },
      "source": [
        "Observe como temos uma declaração impressa quando x == 3 e continuamos imprimindo enquanto continuamos através do while. Vamos fazer uma pausa uma vez x == 3 e ver se o resultado faz sentido:"
      ]
    },
    {
      "cell_type": "code",
      "execution_count": 158,
      "metadata": {
        "id": "pVGSifM8Menq",
        "colab": {
          "base_uri": "https://localhost:8080/"
        },
        "outputId": "4c1b92dc-98e9-4058-c412-c8ed5c0332f8"
      },
      "outputs": [
        {
          "output_type": "stream",
          "name": "stdout",
          "text": [
            "x is currently:  0\n",
            " x is still less than 10, adding 1 to x\n",
            "continuing...\n",
            "x is currently:  1\n",
            " x is still less than 10, adding 1 to x\n",
            "continuing...\n",
            "x is currently:  2\n",
            " x is still less than 10, adding 1 to x\n",
            "Breaking because x==3\n"
          ]
        }
      ],
      "source": [
        "x = 0\n",
        "while x < 10:\n",
        "    print('x is currently: ',x)\n",
        "    print(' x is still less than 10, adding 1 to x')\n",
        "    x+=1\n",
        "    if x ==3:\n",
        "        print('Breaking because x==3')\n",
        "        break\n",
        "    else:\n",
        "        print('continuing...')\n",
        "    continue"
      ]
    },
    {
      "cell_type": "markdown",
      "metadata": {
        "id": "iTqzemVMMenq"
      },
      "source": [
        "**Uma observação importante! É possível criar um ciclo de execução infinita com instruções while. Por exemplo:**\n",
        "\n",
        "**NÃO RODE O CÓDIGO ABAIXO**"
      ]
    },
    {
      "cell_type": "code",
      "execution_count": null,
      "metadata": {
        "id": "aHu8REvgMenq"
      },
      "outputs": [],
      "source": [
        "# NÃO RODE ESTE CÓDIGO!\n",
        "while True:\n",
        "    print('Uh Oh infinite Loop!')"
      ]
    },
    {
      "cell_type": "markdown",
      "metadata": {
        "id": "fngHoa_8Menq"
      },
      "source": []
    }
  ],
  "metadata": {
    "kernelspec": {
      "display_name": "base",
      "language": "python",
      "name": "python3"
    },
    "language_info": {
      "codemirror_mode": {
        "name": "ipython",
        "version": 3
      },
      "file_extension": ".py",
      "mimetype": "text/x-python",
      "name": "python",
      "nbconvert_exporter": "python",
      "pygments_lexer": "ipython3",
      "version": "3.9.13"
    },
    "orig_nbformat": 4,
    "vscode": {
      "interpreter": {
        "hash": "0fda60eb319fac8ebfcb14c2fbc9a4c8b1cdf0fbb0837cf486a0f7cad639c07e"
      }
    },
    "colab": {
      "provenance": [],
      "include_colab_link": true
    }
  },
  "nbformat": 4,
  "nbformat_minor": 0
}