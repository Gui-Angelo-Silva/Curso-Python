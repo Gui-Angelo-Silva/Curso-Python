{
  "cells": [
    {
      "cell_type": "markdown",
      "metadata": {
        "id": "view-in-github",
        "colab_type": "text"
      },
      "source": [
        "<a href=\"https://colab.research.google.com/github/Gui-Angelo-Silva/Curso-Python/blob/main/aula01_exercicios.ipynb\" target=\"_parent\"><img src=\"https://colab.research.google.com/assets/colab-badge.svg\" alt=\"Open In Colab\"/></a>"
      ]
    },
    {
      "cell_type": "markdown",
      "metadata": {
        "id": "mgZyiKVYHQWp"
      },
      "source": [
        "### Exercício 1\n",
        "Utilizando o built-in method input(), crie um programa que receba a altura e o peso de uma pessoa e imprima na tela o IMC da mesma."
      ]
    },
    {
      "cell_type": "code",
      "source": [
        "altura = float(input(\"Informe a sua altura: \"))\n",
        "peso = float(input(\"Informe o seu peso: \"))\n",
        "\n",
        "imc = peso / (altura*altura)\n",
        "\n",
        "print(imc)"
      ],
      "metadata": {
        "id": "z8toHrxZHRUG"
      },
      "execution_count": null,
      "outputs": []
    },
    {
      "cell_type": "code",
      "execution_count": null,
      "metadata": {
        "id": "bWCyScuHHQWt"
      },
      "outputs": [],
      "source": []
    },
    {
      "cell_type": "markdown",
      "metadata": {
        "id": "bvhO3Y6LHQWu"
      },
      "source": [
        "### Exercício 2 \n",
        "Escreva um programa que pergunte o nome completo do usuário e cumprimente o mesmo pelo primeiro nome."
      ]
    },
    {
      "cell_type": "code",
      "source": [
        "nomeUsuario = input(\"Informe seu nome: \")\n",
        "nomeUsuario = nomeUsuario + ' seja bem-vindo!'\n",
        "print(nomeUsuario)"
      ],
      "metadata": {
        "id": "U_6oCSZ5H8Q-"
      },
      "execution_count": null,
      "outputs": []
    },
    {
      "cell_type": "code",
      "execution_count": null,
      "metadata": {
        "id": "jQK5RcikHQWu"
      },
      "outputs": [],
      "source": []
    },
    {
      "cell_type": "markdown",
      "metadata": {
        "id": "BBS9Q7iYHQWu"
      },
      "source": [
        "### Exercício 3\n",
        "Desenho um código que extraia o domínio de um e-mail informado."
      ]
    },
    {
      "cell_type": "code",
      "source": [
        "email = input(\"Informe seu email: \")\n",
        "posArroba = email.split('@')[1]\n",
        "print(\"@\" + posArroba)"
      ],
      "metadata": {
        "colab": {
          "base_uri": "https://localhost:8080/"
        },
        "id": "Y-myKpADKyIu",
        "outputId": "231cc41a-6b2f-4f0a-92b7-005a3f5d6c5c"
      },
      "execution_count": 1,
      "outputs": [
        {
          "output_type": "stream",
          "name": "stdout",
          "text": [
            "Informe seu email: guilherme@gmail.com\n",
            "@gmail.com\n"
          ]
        }
      ]
    },
    {
      "cell_type": "code",
      "execution_count": null,
      "metadata": {
        "id": "04L_HKitHQWv"
      },
      "outputs": [],
      "source": []
    },
    {
      "cell_type": "markdown",
      "metadata": {
        "id": "P9KmlhdwHQWv"
      },
      "source": [
        "### Exercício 4 \n",
        "Faça um programa para uma loja de tintas. A pessoa informa a área em m2 que deseja pintar, e o script calculará a quantidade de latas de tinta que a pessoa deve comprar e o valor. Considere que cada litro de tinta pinta 3m2, que cada lata contém 18L e que custa R$ 80."
      ]
    },
    {
      "cell_type": "code",
      "source": [
        "import math\n",
        "\n",
        "area = int(input(\"Informe a área em metros quadrados: \"))\n",
        "litrosTinta = area / 3\n",
        "totalLitrosTinta = litrosTinta / 18\n",
        "totalLatasTinta = math.ceil(totalLitrosTinta)\n",
        "valorTotal = totalLatasTinta * 80\n",
        "print(f\"A quantiadade de latas de tinta é {totalLatasTinta} e o preço será de R${valorTotal: .2f}\")"
      ],
      "metadata": {
        "colab": {
          "base_uri": "https://localhost:8080/"
        },
        "id": "cjubEqR7Ripq",
        "outputId": "dabf51fa-036a-451d-f265-a9a1b42a4b8a"
      },
      "execution_count": 2,
      "outputs": [
        {
          "output_type": "stream",
          "name": "stdout",
          "text": [
            "Informe a área em metros quadrados: 80\n",
            "A quantiadade de latas de tinta é 2 e o preço será de R$ 160.00\n"
          ]
        }
      ]
    },
    {
      "cell_type": "code",
      "execution_count": 1,
      "metadata": {
        "id": "QVE-iAGBHQWv"
      },
      "outputs": [],
      "source": []
    },
    {
      "cell_type": "markdown",
      "metadata": {
        "id": "GZp5W0bxHQWw"
      },
      "source": [
        "### Exercício 5\n",
        "Faça um Programa que pergunte quanto você ganha por hora e o número de horas trabalhadas no mês. Calcule e mostre o total do seu salário no referido mês, sabendo-se que são descontados 11% para o Imposto de Renda, 8% para o INSS e 5% para o sindicato, faça um programa que nos dê:\n",
        "1. Salário bruto.\n",
        "2. Quanto pagou ao INSS.\n",
        "3. Quanto pagou ao sindicato.\n",
        "4. O salário líquido."
      ]
    },
    {
      "cell_type": "code",
      "source": [
        "ganhaPorHora = float(input(\"Informe o valor da sua hora trabalhada: \"))\n",
        "horasTrabalhadas = int(input(\"Informe a quantidade de horas trabalhadas: \"))\n",
        "\n",
        "salario = ganhaPorHora * horasTrabalhadas\n",
        "impostoRenda = salario * 0.11\n",
        "inss = salario * 0.08\n",
        "sindicato = salario * 0.05\n",
        "\n",
        "salario = 'Salario bruto: ' + str(salario)\n",
        "impostoRenda = 'Valor do imposto de renda: ' + str(impostoRenda)\n",
        "inss = 'Valor a ser pago do INSS: ' + str(inss)\n",
        "sindicato = \"Valor a ser pago ao sindicato: \" + str(sindicato)\n",
        "\n",
        "print(salario)\n",
        "print(impostoRenda)\n",
        "print(inss)\n",
        "print(sindicato)"
      ],
      "metadata": {
        "colab": {
          "base_uri": "https://localhost:8080/"
        },
        "id": "MCT5YDNZUYmw",
        "outputId": "b4194f25-113b-43a4-c7d2-3edf73e0a53e"
      },
      "execution_count": 4,
      "outputs": [
        {
          "output_type": "stream",
          "name": "stdout",
          "text": [
            "Informe o valor da sua hora trabalhada: 30\n",
            "Informe a quantidade de horas trabalhadas: 120\n",
            "Salario bruto: 3600.0\n",
            "Valor do imposto de renda: 396.0\n",
            "Valor a ser pago do INSS: 288.0\n",
            "Valor a ser pago ao sindicato: 180.0\n"
          ]
        }
      ]
    },
    {
      "cell_type": "code",
      "execution_count": 2,
      "metadata": {
        "id": "PzjDR1ZaHQWw"
      },
      "outputs": [],
      "source": []
    },
    {
      "cell_type": "markdown",
      "metadata": {
        "id": "ZFp5zx_mHQWw"
      },
      "source": [
        "### Exercício 6\n",
        "Faça um programa para a leitura de duas notas parciais de um aluno. O programa deve calcular a média alcançada por aluno e apresentar:\n",
        "- A mensagem \"Aprovado\", se a média alcançada for maior ou igual a 7;\n",
        "- A mensagem \"Reprovado\", se a média for menor do que 7;\n",
        "- A mensagem \"Aprovado com Distinção\", se a média for igual a 10."
      ]
    },
    {
      "cell_type": "code",
      "source": [
        "nota1 = float(input(\"Informe a primeira nota: \"))\n",
        "nota2 = float(input(\"Informe a segunda nota: \"))\n",
        "\n",
        "media = (nota1 + nota2) / 2\n",
        "\n",
        "if media == 10:\n",
        "    print(\"Aprovado com Distinção!\")\n",
        "elif media >= 7:\n",
        "    print(\"Aprovado!\")\n",
        "else:\n",
        "    print(\"Reprovado!\")"
      ],
      "metadata": {
        "id": "GfPDEuUmXIXC"
      },
      "execution_count": null,
      "outputs": []
    },
    {
      "cell_type": "code",
      "execution_count": null,
      "metadata": {
        "id": "u_LRTsA0HQWx"
      },
      "outputs": [],
      "source": []
    },
    {
      "cell_type": "markdown",
      "metadata": {
        "id": "u7C7enCIHQWx"
      },
      "source": [
        "### Exercício 7\n",
        "Escreva um script que leia três números e mostre o maior e o menor deles."
      ]
    },
    {
      "cell_type": "code",
      "source": [
        "n1 = float(input(\"Informe o primeiro valor: \"))\n",
        "n2 = float(input(\"Informe o segundo valor: \"))\n",
        "n3 = float(input(\"Informe o terceiro valor: \"))\n",
        "\n",
        "if n1 > n2 and n2 > n3:\n",
        "    print(f\"O maior é {n1} e o menor é {n3}\")\n",
        "elif n1 > n3 and n3 > n2:\n",
        "    print(f\"O maior é {n1} e o menor é {n2}\")\n",
        "elif n2 > n1 and n1 > n3:\n",
        "    print(f\"O maior é {n2} e o menor é {n3}\")\n",
        "elif n2 > n3 and n3 > n1:\n",
        "    print(f\"O maior é {n2} e o menor é {n1}\")\n",
        "elif n3 > n1 and n1 > n2:\n",
        "    print(f\"O maior é {n3} e o menor é {n2}\")\n",
        "elif n3 > n2 and n2 > n1:\n",
        "    print(f\"O maior é {n3} e o menor é {n1}\")"
      ],
      "metadata": {
        "id": "dFOakFlOZV6N"
      },
      "execution_count": null,
      "outputs": []
    },
    {
      "cell_type": "code",
      "execution_count": null,
      "metadata": {
        "id": "ceWVCymdHQWx"
      },
      "outputs": [],
      "source": []
    },
    {
      "cell_type": "markdown",
      "metadata": {
        "id": "9urIdZrQHQWx"
      },
      "source": [
        "### Exercício 8\n",
        "Entre com um nome e imprima o nome na vertical em escada. \n",
        "\n",
        "F<br>\n",
        "FU<br>\n",
        "FUL<br>\n",
        "FULA<br>\n",
        "FULAN<br>\n",
        "FULANO<br>"
      ]
    },
    {
      "cell_type": "code",
      "source": [
        "nome = str(input(\"Informe o seu nome: \"))\n",
        "\n",
        "for i in range(len(nome)):\n",
        "    print(nome[:i+1])"
      ],
      "metadata": {
        "id": "QMErDz0caPDT"
      },
      "execution_count": null,
      "outputs": []
    },
    {
      "cell_type": "code",
      "execution_count": null,
      "metadata": {
        "id": "zAEuEnywHQWy"
      },
      "outputs": [],
      "source": []
    },
    {
      "cell_type": "markdown",
      "metadata": {
        "id": "KX1IjzAsHQWy"
      },
      "source": [
        "### Exercício 9\n",
        "A série de Fibonacci é formada pela seqüência 1,1,2,3,5,8,13,21,34,55,... (o próximo termo, a partir do terceiro, é sempre gerado a partir do somatório dos últimos dois). Faça um programa capaz de gerar a série até o n−ésimo termo (onde o valor n deve ser inserido pelo usuário)."
      ]
    },
    {
      "cell_type": "code",
      "source": [
        "n = int(input(\"Informe o valor que deseja encontrar: \"))\n",
        "ultimo = 1\n",
        "penultimo = 1\n",
        "\n",
        "if(n == 1) or (n == 2):\n",
        "    print(\"1\")\n",
        "else:\n",
        "    contador = 3\n",
        "    while contador <= n:\n",
        "        valor = ultimo + penultimo\n",
        "        penultimo = ultimo\n",
        "        ultimo = valor\n",
        "        contador += 1\n",
        "        print(valor)"
      ],
      "metadata": {
        "id": "-S-O2b-2bZCt"
      },
      "execution_count": null,
      "outputs": []
    },
    {
      "cell_type": "code",
      "execution_count": null,
      "metadata": {
        "id": "XFDL3VPLHQWy"
      },
      "outputs": [],
      "source": []
    },
    {
      "cell_type": "markdown",
      "metadata": {
        "id": "aD8TgSb4HQWy"
      },
      "source": [
        "### Exercício 10\n",
        "Faça um programa que leia e valide as seguintes informações:\n",
        "- Nome: maior que 3 caracteres;\n",
        "- Idade: entre 0 e 150;\n",
        "- Salário: maior que zero;\n",
        "- Sexo: 'f' ou 'm';\n",
        "- Estado Civil: 's', 'c', 'v', 'd';"
      ]
    },
    {
      "cell_type": "code",
      "source": [
        "nome = str(input(\"Informe o seu nome: \"))\n",
        "idade = int(input(\"Informe sua idade: \"))\n",
        "salario = float(input(\"Informe seu salario: \"))\n",
        "sexo = str(input(\"Informe seu sexo: \"))\n",
        "estadoCivil = str(input(\"Informe seu estado civil: \"))\n",
        "\n",
        "if len(nome) <= 3:\n",
        "    print(\"O nome deve conter mais de 3 letras\")\n",
        "if (idade < 0) or (idade > 150):\n",
        "    print(\"A idade deve ser maior que 0 e menor que 150\")\n",
        "if salario < 0:\n",
        "    print(\"O salario deve ser maior que 0\")\n",
        "if sexo != 'f' or sexo != 'm':\n",
        "    print(\"O sexo deve ser f ou m\")\n",
        "if (estadoCivil != 's') and (estadoCivil != 'c') and (estadoCivil != 'v') and (estadoCivil != 'd'):\n",
        "    print(\"O estado civil deve ser s, c, v ou d\")\n",
        "    \n",
        "else: \n",
        "    print(\"Insira de forma correta nos campos\")"
      ],
      "metadata": {
        "id": "lp0Vc4rcgQ9t"
      },
      "execution_count": null,
      "outputs": []
    },
    {
      "cell_type": "code",
      "execution_count": null,
      "metadata": {
        "id": "1elwxlOAHQWz"
      },
      "outputs": [],
      "source": []
    },
    {
      "cell_type": "markdown",
      "metadata": {
        "id": "Oa76KNkzHQWz"
      },
      "source": [
        "### Exercício 11\n",
        "Faça um programa que peça um número inteiro e determine se ele é ou não um número primo. Um número primo é aquele que é divisível somente por ele mesmo e por 1. \n",
        "Dica: Utilize o operador aritmético `%`, que retorna o resto da divisão de dois números."
      ]
    },
    {
      "cell_type": "code",
      "source": [
        "n = int(input(\"Informe um valor para verificar se é primo ou não: \"))\n",
        "\n",
        "for i in range(2, n):\n",
        "    if n % i == 0:\n",
        "        print(f\"{n} - Não é primo!\")\n",
        "else:\n",
        "    print(f\"{n} - É primo!\")"
      ],
      "metadata": {
        "id": "elgXuD7kiLT9"
      },
      "execution_count": null,
      "outputs": []
    },
    {
      "cell_type": "code",
      "execution_count": null,
      "metadata": {
        "id": "8FOav2MjHQWz"
      },
      "outputs": [],
      "source": []
    },
    {
      "cell_type": "markdown",
      "metadata": {
        "id": "hfCJy1f2HQWz"
      },
      "source": [
        "### Exercício 12\n",
        "Faça uma calculadora com as 4 operações básicas mais a potenciação onde o usuário pode escolher em um menu a operação desejada informar os valores e receber o resultado. Após isso o software deve perguntar ao usuário se ele deseja fazer outra operação onde 0-Sim e 1-Não. Se escolher não encerra o programa e sim reapresenta o menu principal."
      ]
    },
    {
      "cell_type": "code",
      "source": [
        "while 1:\n",
        "    print(\"-------------MENU--------------\")\n",
        "    print(\"[1] - Operação de adição\")\n",
        "    print(\"[2] - Operação de subtração\")\n",
        "    print(\"[3] - Operação de multiplicação\")\n",
        "    print(\"[4] - Operação de divisão\")\n",
        "    print(\"[5] - Operação de potenciação\")\n",
        "    opcao = int(input(\"Informe a opção da operação desejada: \"))\n",
        "\n",
        "    if opcao == 1:\n",
        "        a = float(input(\"Informe o primeiro valor para soma: \"))\n",
        "        b = float(input(\"Informe o segundo valor para soma: \"))\n",
        "        c = a + b\n",
        "        print(f\"{a} + {b} = {c}\")\n",
        "        n = input(\"Informe 0 para continuar o programa ou 1 para fechar\")\n",
        "        if n == 1:\n",
        "            break\n",
        "        else:\n",
        "            continue\n",
        "    if opcao == 2:\n",
        "        a = float(input(\"Informe o primeiro valor para subtração: \"))\n",
        "        b = float(input(\"Informe o segundo valor para subtração: \"))\n",
        "        c = a - b\n",
        "        print(f\"{a} - {b} = {c}\")\n",
        "        n = input(\"Informe 0 para continuar o programa ou 1 para fechar\")\n",
        "        if n == 1:\n",
        "            break\n",
        "        else:\n",
        "            continue\n",
        "    if opcao == 3:\n",
        "        a = float(input(\"Informe o primeiro valor para multiplicação: \"))\n",
        "        b = float(input(\"Informe o segundo valor para multiplicação: \"))\n",
        "        c = a * b\n",
        "        print(f\"{a} x {b} = {c}\")\n",
        "        n = input(\"Informe 0 para continuar o programa ou 1 para fechar\")\n",
        "        if n == 1:\n",
        "            break\n",
        "        else:\n",
        "            continue\n",
        "    if opcao == 4:\n",
        "        a = float(input(\"Informe o primeiro valor para divisão: \"))\n",
        "        b = float(input(\"Informe o segundo valor para divisão: \"))\n",
        "        c = a / b\n",
        "        print(f\"{a} % {b} = {c}\")\n",
        "        n = input(\"Informe 0 para continuar o programa ou 1 para fechar\")\n",
        "        if n == 1:\n",
        "            break\n",
        "        else:\n",
        "            continue\n",
        "    if opcao == 5:\n",
        "        a = float(input(\"Informe o valor para potenciação: \"))\n",
        "        c = a * a\n",
        "        print(f\"Potencia de {a} é {c}\")\n",
        "        n = input(\"Informe 0 para continuar o programa ou 1 para fechar\")\n",
        "        if n == 1:\n",
        "            break\n",
        "        else:\n",
        "            continue\n",
        "    else:\n",
        "        print(\"Opção Inválida!\")\n",
        "        break"
      ],
      "metadata": {
        "id": "4ccXmYafnAYo"
      },
      "execution_count": null,
      "outputs": []
    },
    {
      "cell_type": "code",
      "execution_count": null,
      "metadata": {
        "id": "gmYzM1J4HQW0"
      },
      "outputs": [],
      "source": []
    },
    {
      "cell_type": "markdown",
      "metadata": {
        "id": "5vxYt8JFHQW0"
      },
      "source": []
    }
  ],
  "metadata": {
    "language_info": {
      "name": "python"
    },
    "orig_nbformat": 4,
    "colab": {
      "provenance": [],
      "include_colab_link": true
    },
    "kernelspec": {
      "name": "python3",
      "display_name": "Python 3"
    },
    "gpuClass": "standard"
  },
  "nbformat": 4,
  "nbformat_minor": 0
}